{
 "cells": [
  {
   "cell_type": "markdown",
   "metadata": {},
   "source": [
    "# Краткое описание проекта"
   ]
  },
  {
   "cell_type": "markdown",
   "metadata": {},
   "source": [
    "\n",
    "    - Мы работаем в интернет-магазине «Стримчик», который продаёт по всему миру компьютерные игры. Из открытых источников доступны исторические данные о продажах игр, оценки пользователей и экспертов, жанры и платформы (например, Xbox или PlayStation). Вам нужно выявить определяющие успешность игры закономерности. Это позволит сделать ставку на потенциально популярный продукт и спланировать рекламные кампании.\n",
    "# Цель проекта\n",
    "    - Проанализировать данные и проверьте некоторые гипотезы, которые могут помочь бизнесу вырасти.\n",
    "# План работы\n",
    "     - Шаг 1. Загрузка данных\n",
    "     - Шаг 2. Предобработка данных\n",
    "     - Шаг 3. Исследовательский анализ данных\n",
    "     - Шаг 4. Составим портрет пользователя каждого региона (NA, EU, JP)\n",
    "     - Шаг 5. Проверим гипотезы\n",
    "     - Шаг 6. Общий вывод\n",
    "# Описание данных \n",
    "     - Name — название игры\n",
    "     - Platform — платформа\n",
    "     - Year_of_Release — год выпуска\n",
    "     - Genre — жанр игры\n",
    "     - NA_sales — продажи в Северной Америке (миллионы проданных копий)\n",
    "     - EU_sales — продажи в Европе (миллионы проданных копий)\n",
    "     - JP_sales — продажи в Японии (миллионы проданных копий)\n",
    "     - Other_sales — продажи в других странах (миллионы проданных копий)\n",
    "     - Critic_Score — оценка критиков (максимум 100)\n",
    "     - User_Score — оценка пользователей (максимум 10)\n",
    "     - Rating — рейтинг от организации ESRB (англ. Entertainment Software Rating Board). Эта ассоциация определяет рейтинг компьютерных игр и присваивает им подходящую возрастную категорию."
   ]
  },
  {
   "cell_type": "markdown",
   "metadata": {},
   "source": [
    "## Шаг 1. Откроем файл с данными и изучим общую информацию."
   ]
  },
  {
   "cell_type": "code",
   "execution_count": 1,
   "metadata": {},
   "outputs": [],
   "source": [
    "#Сразу импортируем нужные нам библиотеки\n",
    "import pandas as pd\n",
    "from scipy import stats as st\n",
    "import numpy as np\n",
    "import seaborn as sns\n",
    "import matplotlib.pyplot as plt\n",
    "import scipy.stats as st"
   ]
  },
  {
   "cell_type": "code",
   "execution_count": 2,
   "metadata": {},
   "outputs": [
    {
     "data": {
      "text/html": [
       "<div>\n",
       "<style scoped>\n",
       "    .dataframe tbody tr th:only-of-type {\n",
       "        vertical-align: middle;\n",
       "    }\n",
       "\n",
       "    .dataframe tbody tr th {\n",
       "        vertical-align: top;\n",
       "    }\n",
       "\n",
       "    .dataframe thead th {\n",
       "        text-align: right;\n",
       "    }\n",
       "</style>\n",
       "<table border=\"1\" class=\"dataframe\">\n",
       "  <thead>\n",
       "    <tr style=\"text-align: right;\">\n",
       "      <th></th>\n",
       "      <th>Name</th>\n",
       "      <th>Platform</th>\n",
       "      <th>Year_of_Release</th>\n",
       "      <th>Genre</th>\n",
       "      <th>NA_sales</th>\n",
       "      <th>EU_sales</th>\n",
       "      <th>JP_sales</th>\n",
       "      <th>Other_sales</th>\n",
       "      <th>Critic_Score</th>\n",
       "      <th>User_Score</th>\n",
       "      <th>Rating</th>\n",
       "    </tr>\n",
       "  </thead>\n",
       "  <tbody>\n",
       "    <tr>\n",
       "      <th>0</th>\n",
       "      <td>Wii Sports</td>\n",
       "      <td>Wii</td>\n",
       "      <td>2006.0</td>\n",
       "      <td>Sports</td>\n",
       "      <td>41.36</td>\n",
       "      <td>28.96</td>\n",
       "      <td>3.77</td>\n",
       "      <td>8.45</td>\n",
       "      <td>76.0</td>\n",
       "      <td>8</td>\n",
       "      <td>E</td>\n",
       "    </tr>\n",
       "    <tr>\n",
       "      <th>1</th>\n",
       "      <td>Super Mario Bros.</td>\n",
       "      <td>NES</td>\n",
       "      <td>1985.0</td>\n",
       "      <td>Platform</td>\n",
       "      <td>29.08</td>\n",
       "      <td>3.58</td>\n",
       "      <td>6.81</td>\n",
       "      <td>0.77</td>\n",
       "      <td>NaN</td>\n",
       "      <td>NaN</td>\n",
       "      <td>NaN</td>\n",
       "    </tr>\n",
       "    <tr>\n",
       "      <th>2</th>\n",
       "      <td>Mario Kart Wii</td>\n",
       "      <td>Wii</td>\n",
       "      <td>2008.0</td>\n",
       "      <td>Racing</td>\n",
       "      <td>15.68</td>\n",
       "      <td>12.76</td>\n",
       "      <td>3.79</td>\n",
       "      <td>3.29</td>\n",
       "      <td>82.0</td>\n",
       "      <td>8.3</td>\n",
       "      <td>E</td>\n",
       "    </tr>\n",
       "    <tr>\n",
       "      <th>3</th>\n",
       "      <td>Wii Sports Resort</td>\n",
       "      <td>Wii</td>\n",
       "      <td>2009.0</td>\n",
       "      <td>Sports</td>\n",
       "      <td>15.61</td>\n",
       "      <td>10.93</td>\n",
       "      <td>3.28</td>\n",
       "      <td>2.95</td>\n",
       "      <td>80.0</td>\n",
       "      <td>8</td>\n",
       "      <td>E</td>\n",
       "    </tr>\n",
       "    <tr>\n",
       "      <th>4</th>\n",
       "      <td>Pokemon Red/Pokemon Blue</td>\n",
       "      <td>GB</td>\n",
       "      <td>1996.0</td>\n",
       "      <td>Role-Playing</td>\n",
       "      <td>11.27</td>\n",
       "      <td>8.89</td>\n",
       "      <td>10.22</td>\n",
       "      <td>1.00</td>\n",
       "      <td>NaN</td>\n",
       "      <td>NaN</td>\n",
       "      <td>NaN</td>\n",
       "    </tr>\n",
       "  </tbody>\n",
       "</table>\n",
       "</div>"
      ],
      "text/plain": [
       "                       Name Platform  Year_of_Release         Genre  NA_sales  \\\n",
       "0                Wii Sports      Wii           2006.0        Sports     41.36   \n",
       "1         Super Mario Bros.      NES           1985.0      Platform     29.08   \n",
       "2            Mario Kart Wii      Wii           2008.0        Racing     15.68   \n",
       "3         Wii Sports Resort      Wii           2009.0        Sports     15.61   \n",
       "4  Pokemon Red/Pokemon Blue       GB           1996.0  Role-Playing     11.27   \n",
       "\n",
       "   EU_sales  JP_sales  Other_sales  Critic_Score User_Score Rating  \n",
       "0     28.96      3.77         8.45          76.0          8      E  \n",
       "1      3.58      6.81         0.77           NaN        NaN    NaN  \n",
       "2     12.76      3.79         3.29          82.0        8.3      E  \n",
       "3     10.93      3.28         2.95          80.0          8      E  \n",
       "4      8.89     10.22         1.00           NaN        NaN    NaN  "
      ]
     },
     "execution_count": 2,
     "metadata": {},
     "output_type": "execute_result"
    }
   ],
   "source": [
    "df = pd.read_csv('/datasets/games.csv')\n",
    "df.head()"
   ]
  },
  {
   "cell_type": "code",
   "execution_count": 3,
   "metadata": {},
   "outputs": [
    {
     "name": "stdout",
     "output_type": "stream",
     "text": [
      "<class 'pandas.core.frame.DataFrame'>\n",
      "RangeIndex: 16715 entries, 0 to 16714\n",
      "Data columns (total 11 columns):\n",
      " #   Column           Non-Null Count  Dtype  \n",
      "---  ------           --------------  -----  \n",
      " 0   Name             16713 non-null  object \n",
      " 1   Platform         16715 non-null  object \n",
      " 2   Year_of_Release  16446 non-null  float64\n",
      " 3   Genre            16713 non-null  object \n",
      " 4   NA_sales         16715 non-null  float64\n",
      " 5   EU_sales         16715 non-null  float64\n",
      " 6   JP_sales         16715 non-null  float64\n",
      " 7   Other_sales      16715 non-null  float64\n",
      " 8   Critic_Score     8137 non-null   float64\n",
      " 9   User_Score       10014 non-null  object \n",
      " 10  Rating           9949 non-null   object \n",
      "dtypes: float64(6), object(5)\n",
      "memory usage: 1.4+ MB\n"
     ]
    }
   ],
   "source": [
    "df.info()"
   ]
  },
  {
   "cell_type": "markdown",
   "metadata": {},
   "source": [
    "На первом шаге мы считали данные, ознакомились с содержанием данных, посмотрели у каких столбцов нужно поменять тип данных."
   ]
  },
  {
   "cell_type": "markdown",
   "metadata": {},
   "source": [
    "## Шаг 2. Подготовка данных."
   ]
  },
  {
   "cell_type": "code",
   "execution_count": 4,
   "metadata": {},
   "outputs": [
    {
     "data": {
      "text/html": [
       "<div>\n",
       "<style scoped>\n",
       "    .dataframe tbody tr th:only-of-type {\n",
       "        vertical-align: middle;\n",
       "    }\n",
       "\n",
       "    .dataframe tbody tr th {\n",
       "        vertical-align: top;\n",
       "    }\n",
       "\n",
       "    .dataframe thead th {\n",
       "        text-align: right;\n",
       "    }\n",
       "</style>\n",
       "<table border=\"1\" class=\"dataframe\">\n",
       "  <thead>\n",
       "    <tr style=\"text-align: right;\">\n",
       "      <th></th>\n",
       "      <th>name</th>\n",
       "      <th>platform</th>\n",
       "      <th>year_of_release</th>\n",
       "      <th>genre</th>\n",
       "      <th>na_sales</th>\n",
       "      <th>eu_sales</th>\n",
       "      <th>jp_sales</th>\n",
       "      <th>other_sales</th>\n",
       "      <th>critic_score</th>\n",
       "      <th>user_score</th>\n",
       "      <th>rating</th>\n",
       "    </tr>\n",
       "  </thead>\n",
       "  <tbody>\n",
       "    <tr>\n",
       "      <th>0</th>\n",
       "      <td>Wii Sports</td>\n",
       "      <td>Wii</td>\n",
       "      <td>2006.0</td>\n",
       "      <td>Sports</td>\n",
       "      <td>41.36</td>\n",
       "      <td>28.96</td>\n",
       "      <td>3.77</td>\n",
       "      <td>8.45</td>\n",
       "      <td>76.0</td>\n",
       "      <td>8</td>\n",
       "      <td>E</td>\n",
       "    </tr>\n",
       "    <tr>\n",
       "      <th>1</th>\n",
       "      <td>Super Mario Bros.</td>\n",
       "      <td>NES</td>\n",
       "      <td>1985.0</td>\n",
       "      <td>Platform</td>\n",
       "      <td>29.08</td>\n",
       "      <td>3.58</td>\n",
       "      <td>6.81</td>\n",
       "      <td>0.77</td>\n",
       "      <td>NaN</td>\n",
       "      <td>NaN</td>\n",
       "      <td>NaN</td>\n",
       "    </tr>\n",
       "    <tr>\n",
       "      <th>2</th>\n",
       "      <td>Mario Kart Wii</td>\n",
       "      <td>Wii</td>\n",
       "      <td>2008.0</td>\n",
       "      <td>Racing</td>\n",
       "      <td>15.68</td>\n",
       "      <td>12.76</td>\n",
       "      <td>3.79</td>\n",
       "      <td>3.29</td>\n",
       "      <td>82.0</td>\n",
       "      <td>8.3</td>\n",
       "      <td>E</td>\n",
       "    </tr>\n",
       "    <tr>\n",
       "      <th>3</th>\n",
       "      <td>Wii Sports Resort</td>\n",
       "      <td>Wii</td>\n",
       "      <td>2009.0</td>\n",
       "      <td>Sports</td>\n",
       "      <td>15.61</td>\n",
       "      <td>10.93</td>\n",
       "      <td>3.28</td>\n",
       "      <td>2.95</td>\n",
       "      <td>80.0</td>\n",
       "      <td>8</td>\n",
       "      <td>E</td>\n",
       "    </tr>\n",
       "    <tr>\n",
       "      <th>4</th>\n",
       "      <td>Pokemon Red/Pokemon Blue</td>\n",
       "      <td>GB</td>\n",
       "      <td>1996.0</td>\n",
       "      <td>Role-Playing</td>\n",
       "      <td>11.27</td>\n",
       "      <td>8.89</td>\n",
       "      <td>10.22</td>\n",
       "      <td>1.00</td>\n",
       "      <td>NaN</td>\n",
       "      <td>NaN</td>\n",
       "      <td>NaN</td>\n",
       "    </tr>\n",
       "  </tbody>\n",
       "</table>\n",
       "</div>"
      ],
      "text/plain": [
       "                       name platform  year_of_release         genre  na_sales  \\\n",
       "0                Wii Sports      Wii           2006.0        Sports     41.36   \n",
       "1         Super Mario Bros.      NES           1985.0      Platform     29.08   \n",
       "2            Mario Kart Wii      Wii           2008.0        Racing     15.68   \n",
       "3         Wii Sports Resort      Wii           2009.0        Sports     15.61   \n",
       "4  Pokemon Red/Pokemon Blue       GB           1996.0  Role-Playing     11.27   \n",
       "\n",
       "   eu_sales  jp_sales  other_sales  critic_score user_score rating  \n",
       "0     28.96      3.77         8.45          76.0          8      E  \n",
       "1      3.58      6.81         0.77           NaN        NaN    NaN  \n",
       "2     12.76      3.79         3.29          82.0        8.3      E  \n",
       "3     10.93      3.28         2.95          80.0          8      E  \n",
       "4      8.89     10.22         1.00           NaN        NaN    NaN  "
      ]
     },
     "execution_count": 4,
     "metadata": {},
     "output_type": "execute_result"
    }
   ],
   "source": [
    "#Приведем названия столбцов к нижнему регистру.\n",
    "df = df.rename(columns=lambda x: x.lower())\n",
    "df.head()"
   ]
  },
  {
   "cell_type": "code",
   "execution_count": 5,
   "metadata": {},
   "outputs": [
    {
     "name": "stdout",
     "output_type": "stream",
     "text": [
      "<class 'pandas.core.frame.DataFrame'>\n",
      "Int64Index: 16713 entries, 0 to 16714\n",
      "Data columns (total 11 columns):\n",
      " #   Column           Non-Null Count  Dtype  \n",
      "---  ------           --------------  -----  \n",
      " 0   name             16713 non-null  object \n",
      " 1   platform         16713 non-null  object \n",
      " 2   year_of_release  16444 non-null  float64\n",
      " 3   genre            16713 non-null  object \n",
      " 4   na_sales         16713 non-null  float64\n",
      " 5   eu_sales         16713 non-null  float64\n",
      " 6   jp_sales         16713 non-null  float64\n",
      " 7   other_sales      16713 non-null  float64\n",
      " 8   critic_score     8137 non-null   float64\n",
      " 9   user_score       10014 non-null  object \n",
      " 10  rating           9949 non-null   object \n",
      "dtypes: float64(6), object(5)\n",
      "memory usage: 1.5+ MB\n"
     ]
    }
   ],
   "source": [
    "#Удалим строки, где не указанно название игры и жанр таких строк всего 2 и проверим\n",
    "df = df.dropna(subset=['name'])\n",
    "df.info()"
   ]
  },
  {
   "cell_type": "markdown",
   "metadata": {},
   "source": [
    "Пропуски в столбцах с оценками пользователей и критиков не буду заполнять, чтобы данные были максимально достоверными, а заполнение средним или медианой в данном случае может негативно повлиять на результаты исследования."
   ]
  },
  {
   "cell_type": "code",
   "execution_count": 6,
   "metadata": {},
   "outputs": [],
   "source": [
    "#приведем столбец с датой к типу данный int\n",
    "#Для этого сначала удалим 269 строк с пропусками\n",
    "df = df.dropna(subset=['year_of_release'])\n",
    "df['year_of_release'] = df['year_of_release'].astype(int)"
   ]
  },
  {
   "cell_type": "code",
   "execution_count": 7,
   "metadata": {},
   "outputs": [],
   "source": [
    "#поменяем тип данных столбца оценки пользователей на float, возможно это пригодится для анализа.\n",
    "df.loc[df['user_score'] == 'tbd', 'user_score'] = np.NaN #изменим значение tbd на Nan.\n",
    "df['user_score'] = df['user_score'].astype(float)"
   ]
  },
  {
   "cell_type": "markdown",
   "metadata": {},
   "source": [
    "Аббревиатура  'tbd' в столбце user_score означает (to be determined = будет определено). То есть в скором времени у может появиться информация поэтому пока что эти значения заполним пропусками."
   ]
  },
  {
   "cell_type": "code",
   "execution_count": 8,
   "metadata": {},
   "outputs": [
    {
     "data": {
      "text/plain": [
       "name                object\n",
       "platform            object\n",
       "year_of_release      int64\n",
       "genre               object\n",
       "na_sales           float64\n",
       "eu_sales           float64\n",
       "jp_sales           float64\n",
       "other_sales        float64\n",
       "critic_score       float64\n",
       "user_score         float64\n",
       "rating              object\n",
       "dtype: object"
      ]
     },
     "execution_count": 8,
     "metadata": {},
     "output_type": "execute_result"
    }
   ],
   "source": [
    "#Проверяем тип данных\n",
    "df.dtypes"
   ]
  },
  {
   "cell_type": "code",
   "execution_count": 9,
   "metadata": {},
   "outputs": [
    {
     "data": {
      "text/html": [
       "<div>\n",
       "<style scoped>\n",
       "    .dataframe tbody tr th:only-of-type {\n",
       "        vertical-align: middle;\n",
       "    }\n",
       "\n",
       "    .dataframe tbody tr th {\n",
       "        vertical-align: top;\n",
       "    }\n",
       "\n",
       "    .dataframe thead th {\n",
       "        text-align: right;\n",
       "    }\n",
       "</style>\n",
       "<table border=\"1\" class=\"dataframe\">\n",
       "  <thead>\n",
       "    <tr style=\"text-align: right;\">\n",
       "      <th></th>\n",
       "      <th>name</th>\n",
       "      <th>platform</th>\n",
       "      <th>year_of_release</th>\n",
       "      <th>genre</th>\n",
       "      <th>na_sales</th>\n",
       "      <th>eu_sales</th>\n",
       "      <th>jp_sales</th>\n",
       "      <th>other_sales</th>\n",
       "      <th>critic_score</th>\n",
       "      <th>user_score</th>\n",
       "      <th>rating</th>\n",
       "    </tr>\n",
       "  </thead>\n",
       "  <tbody>\n",
       "    <tr>\n",
       "      <th>0</th>\n",
       "      <td>Wii Sports</td>\n",
       "      <td>Wii</td>\n",
       "      <td>2006</td>\n",
       "      <td>Sports</td>\n",
       "      <td>41.36</td>\n",
       "      <td>28.96</td>\n",
       "      <td>3.77</td>\n",
       "      <td>8.45</td>\n",
       "      <td>76.0</td>\n",
       "      <td>8.0</td>\n",
       "      <td>E</td>\n",
       "    </tr>\n",
       "    <tr>\n",
       "      <th>1</th>\n",
       "      <td>Super Mario Bros.</td>\n",
       "      <td>NES</td>\n",
       "      <td>1985</td>\n",
       "      <td>Platform</td>\n",
       "      <td>29.08</td>\n",
       "      <td>3.58</td>\n",
       "      <td>6.81</td>\n",
       "      <td>0.77</td>\n",
       "      <td>NaN</td>\n",
       "      <td>NaN</td>\n",
       "      <td>NaN</td>\n",
       "    </tr>\n",
       "    <tr>\n",
       "      <th>2</th>\n",
       "      <td>Mario Kart Wii</td>\n",
       "      <td>Wii</td>\n",
       "      <td>2008</td>\n",
       "      <td>Racing</td>\n",
       "      <td>15.68</td>\n",
       "      <td>12.76</td>\n",
       "      <td>3.79</td>\n",
       "      <td>3.29</td>\n",
       "      <td>82.0</td>\n",
       "      <td>8.3</td>\n",
       "      <td>E</td>\n",
       "    </tr>\n",
       "    <tr>\n",
       "      <th>3</th>\n",
       "      <td>Wii Sports Resort</td>\n",
       "      <td>Wii</td>\n",
       "      <td>2009</td>\n",
       "      <td>Sports</td>\n",
       "      <td>15.61</td>\n",
       "      <td>10.93</td>\n",
       "      <td>3.28</td>\n",
       "      <td>2.95</td>\n",
       "      <td>80.0</td>\n",
       "      <td>8.0</td>\n",
       "      <td>E</td>\n",
       "    </tr>\n",
       "    <tr>\n",
       "      <th>4</th>\n",
       "      <td>Pokemon Red/Pokemon Blue</td>\n",
       "      <td>GB</td>\n",
       "      <td>1996</td>\n",
       "      <td>Role-Playing</td>\n",
       "      <td>11.27</td>\n",
       "      <td>8.89</td>\n",
       "      <td>10.22</td>\n",
       "      <td>1.00</td>\n",
       "      <td>NaN</td>\n",
       "      <td>NaN</td>\n",
       "      <td>NaN</td>\n",
       "    </tr>\n",
       "  </tbody>\n",
       "</table>\n",
       "</div>"
      ],
      "text/plain": [
       "                       name platform  year_of_release         genre  na_sales  \\\n",
       "0                Wii Sports      Wii             2006        Sports     41.36   \n",
       "1         Super Mario Bros.      NES             1985      Platform     29.08   \n",
       "2            Mario Kart Wii      Wii             2008        Racing     15.68   \n",
       "3         Wii Sports Resort      Wii             2009        Sports     15.61   \n",
       "4  Pokemon Red/Pokemon Blue       GB             1996  Role-Playing     11.27   \n",
       "\n",
       "   eu_sales  jp_sales  other_sales  critic_score  user_score rating  \n",
       "0     28.96      3.77         8.45          76.0         8.0      E  \n",
       "1      3.58      6.81         0.77           NaN         NaN    NaN  \n",
       "2     12.76      3.79         3.29          82.0         8.3      E  \n",
       "3     10.93      3.28         2.95          80.0         8.0      E  \n",
       "4      8.89     10.22         1.00           NaN         NaN    NaN  "
      ]
     },
     "execution_count": 9,
     "metadata": {},
     "output_type": "execute_result"
    }
   ],
   "source": [
    "df.head()"
   ]
  },
  {
   "cell_type": "code",
   "execution_count": 10,
   "metadata": {},
   "outputs": [
    {
     "data": {
      "text/plain": [
       "0"
      ]
     },
     "execution_count": 10,
     "metadata": {},
     "output_type": "execute_result"
    }
   ],
   "source": [
    "#Проверим данные на явные дупликаты\n",
    "df.duplicated().sum()"
   ]
  },
  {
   "cell_type": "code",
   "execution_count": 11,
   "metadata": {},
   "outputs": [
    {
     "data": {
      "text/plain": [
       "1"
      ]
     },
     "execution_count": 11,
     "metadata": {},
     "output_type": "execute_result"
    }
   ],
   "source": [
    "#сделаем проверку на наличие неявных дубликатов (совпадающие по названию, платформе и году релиза одновременно).\n",
    "df[['name', 'platform', 'year_of_release']].duplicated().sum()"
   ]
  },
  {
   "cell_type": "code",
   "execution_count": 12,
   "metadata": {},
   "outputs": [
    {
     "data": {
      "text/html": [
       "<div>\n",
       "<style scoped>\n",
       "    .dataframe tbody tr th:only-of-type {\n",
       "        vertical-align: middle;\n",
       "    }\n",
       "\n",
       "    .dataframe tbody tr th {\n",
       "        vertical-align: top;\n",
       "    }\n",
       "\n",
       "    .dataframe thead th {\n",
       "        text-align: right;\n",
       "    }\n",
       "</style>\n",
       "<table border=\"1\" class=\"dataframe\">\n",
       "  <thead>\n",
       "    <tr style=\"text-align: right;\">\n",
       "      <th></th>\n",
       "      <th>name</th>\n",
       "      <th>platform</th>\n",
       "      <th>year_of_release</th>\n",
       "      <th>genre</th>\n",
       "      <th>na_sales</th>\n",
       "      <th>eu_sales</th>\n",
       "      <th>jp_sales</th>\n",
       "      <th>other_sales</th>\n",
       "      <th>critic_score</th>\n",
       "      <th>user_score</th>\n",
       "      <th>rating</th>\n",
       "    </tr>\n",
       "  </thead>\n",
       "  <tbody>\n",
       "    <tr>\n",
       "      <th>0</th>\n",
       "      <td>Wii Sports</td>\n",
       "      <td>Wii</td>\n",
       "      <td>2006</td>\n",
       "      <td>Sports</td>\n",
       "      <td>41.36</td>\n",
       "      <td>28.96</td>\n",
       "      <td>3.77</td>\n",
       "      <td>8.45</td>\n",
       "      <td>76.0</td>\n",
       "      <td>8.0</td>\n",
       "      <td>E</td>\n",
       "    </tr>\n",
       "    <tr>\n",
       "      <th>1</th>\n",
       "      <td>Super Mario Bros.</td>\n",
       "      <td>NES</td>\n",
       "      <td>1985</td>\n",
       "      <td>Platform</td>\n",
       "      <td>29.08</td>\n",
       "      <td>3.58</td>\n",
       "      <td>6.81</td>\n",
       "      <td>0.77</td>\n",
       "      <td>NaN</td>\n",
       "      <td>NaN</td>\n",
       "      <td>NaN</td>\n",
       "    </tr>\n",
       "    <tr>\n",
       "      <th>2</th>\n",
       "      <td>Mario Kart Wii</td>\n",
       "      <td>Wii</td>\n",
       "      <td>2008</td>\n",
       "      <td>Racing</td>\n",
       "      <td>15.68</td>\n",
       "      <td>12.76</td>\n",
       "      <td>3.79</td>\n",
       "      <td>3.29</td>\n",
       "      <td>82.0</td>\n",
       "      <td>8.3</td>\n",
       "      <td>E</td>\n",
       "    </tr>\n",
       "    <tr>\n",
       "      <th>3</th>\n",
       "      <td>Wii Sports Resort</td>\n",
       "      <td>Wii</td>\n",
       "      <td>2009</td>\n",
       "      <td>Sports</td>\n",
       "      <td>15.61</td>\n",
       "      <td>10.93</td>\n",
       "      <td>3.28</td>\n",
       "      <td>2.95</td>\n",
       "      <td>80.0</td>\n",
       "      <td>8.0</td>\n",
       "      <td>E</td>\n",
       "    </tr>\n",
       "    <tr>\n",
       "      <th>4</th>\n",
       "      <td>Pokemon Red/Pokemon Blue</td>\n",
       "      <td>GB</td>\n",
       "      <td>1996</td>\n",
       "      <td>Role-Playing</td>\n",
       "      <td>11.27</td>\n",
       "      <td>8.89</td>\n",
       "      <td>10.22</td>\n",
       "      <td>1.00</td>\n",
       "      <td>NaN</td>\n",
       "      <td>NaN</td>\n",
       "      <td>NaN</td>\n",
       "    </tr>\n",
       "    <tr>\n",
       "      <th>...</th>\n",
       "      <td>...</td>\n",
       "      <td>...</td>\n",
       "      <td>...</td>\n",
       "      <td>...</td>\n",
       "      <td>...</td>\n",
       "      <td>...</td>\n",
       "      <td>...</td>\n",
       "      <td>...</td>\n",
       "      <td>...</td>\n",
       "      <td>...</td>\n",
       "      <td>...</td>\n",
       "    </tr>\n",
       "    <tr>\n",
       "      <th>16710</th>\n",
       "      <td>Samurai Warriors: Sanada Maru</td>\n",
       "      <td>PS3</td>\n",
       "      <td>2016</td>\n",
       "      <td>Action</td>\n",
       "      <td>0.00</td>\n",
       "      <td>0.00</td>\n",
       "      <td>0.01</td>\n",
       "      <td>0.00</td>\n",
       "      <td>NaN</td>\n",
       "      <td>NaN</td>\n",
       "      <td>NaN</td>\n",
       "    </tr>\n",
       "    <tr>\n",
       "      <th>16711</th>\n",
       "      <td>LMA Manager 2007</td>\n",
       "      <td>X360</td>\n",
       "      <td>2006</td>\n",
       "      <td>Sports</td>\n",
       "      <td>0.00</td>\n",
       "      <td>0.01</td>\n",
       "      <td>0.00</td>\n",
       "      <td>0.00</td>\n",
       "      <td>NaN</td>\n",
       "      <td>NaN</td>\n",
       "      <td>NaN</td>\n",
       "    </tr>\n",
       "    <tr>\n",
       "      <th>16712</th>\n",
       "      <td>Haitaka no Psychedelica</td>\n",
       "      <td>PSV</td>\n",
       "      <td>2016</td>\n",
       "      <td>Adventure</td>\n",
       "      <td>0.00</td>\n",
       "      <td>0.00</td>\n",
       "      <td>0.01</td>\n",
       "      <td>0.00</td>\n",
       "      <td>NaN</td>\n",
       "      <td>NaN</td>\n",
       "      <td>NaN</td>\n",
       "    </tr>\n",
       "    <tr>\n",
       "      <th>16713</th>\n",
       "      <td>Spirits &amp; Spells</td>\n",
       "      <td>GBA</td>\n",
       "      <td>2003</td>\n",
       "      <td>Platform</td>\n",
       "      <td>0.01</td>\n",
       "      <td>0.00</td>\n",
       "      <td>0.00</td>\n",
       "      <td>0.00</td>\n",
       "      <td>NaN</td>\n",
       "      <td>NaN</td>\n",
       "      <td>NaN</td>\n",
       "    </tr>\n",
       "    <tr>\n",
       "      <th>16714</th>\n",
       "      <td>Winning Post 8 2016</td>\n",
       "      <td>PSV</td>\n",
       "      <td>2016</td>\n",
       "      <td>Simulation</td>\n",
       "      <td>0.00</td>\n",
       "      <td>0.00</td>\n",
       "      <td>0.01</td>\n",
       "      <td>0.00</td>\n",
       "      <td>NaN</td>\n",
       "      <td>NaN</td>\n",
       "      <td>NaN</td>\n",
       "    </tr>\n",
       "  </tbody>\n",
       "</table>\n",
       "<p>16443 rows × 11 columns</p>\n",
       "</div>"
      ],
      "text/plain": [
       "                                name platform  year_of_release         genre  \\\n",
       "0                         Wii Sports      Wii             2006        Sports   \n",
       "1                  Super Mario Bros.      NES             1985      Platform   \n",
       "2                     Mario Kart Wii      Wii             2008        Racing   \n",
       "3                  Wii Sports Resort      Wii             2009        Sports   \n",
       "4           Pokemon Red/Pokemon Blue       GB             1996  Role-Playing   \n",
       "...                              ...      ...              ...           ...   \n",
       "16710  Samurai Warriors: Sanada Maru      PS3             2016        Action   \n",
       "16711               LMA Manager 2007     X360             2006        Sports   \n",
       "16712        Haitaka no Psychedelica      PSV             2016     Adventure   \n",
       "16713               Spirits & Spells      GBA             2003      Platform   \n",
       "16714            Winning Post 8 2016      PSV             2016    Simulation   \n",
       "\n",
       "       na_sales  eu_sales  jp_sales  other_sales  critic_score  user_score  \\\n",
       "0         41.36     28.96      3.77         8.45          76.0         8.0   \n",
       "1         29.08      3.58      6.81         0.77           NaN         NaN   \n",
       "2         15.68     12.76      3.79         3.29          82.0         8.3   \n",
       "3         15.61     10.93      3.28         2.95          80.0         8.0   \n",
       "4         11.27      8.89     10.22         1.00           NaN         NaN   \n",
       "...         ...       ...       ...          ...           ...         ...   \n",
       "16710      0.00      0.00      0.01         0.00           NaN         NaN   \n",
       "16711      0.00      0.01      0.00         0.00           NaN         NaN   \n",
       "16712      0.00      0.00      0.01         0.00           NaN         NaN   \n",
       "16713      0.01      0.00      0.00         0.00           NaN         NaN   \n",
       "16714      0.00      0.00      0.01         0.00           NaN         NaN   \n",
       "\n",
       "      rating  \n",
       "0          E  \n",
       "1        NaN  \n",
       "2          E  \n",
       "3          E  \n",
       "4        NaN  \n",
       "...      ...  \n",
       "16710    NaN  \n",
       "16711    NaN  \n",
       "16712    NaN  \n",
       "16713    NaN  \n",
       "16714    NaN  \n",
       "\n",
       "[16443 rows x 11 columns]"
      ]
     },
     "execution_count": 12,
     "metadata": {},
     "output_type": "execute_result"
    }
   ],
   "source": [
    "#Удалим дупликат\n",
    "df.drop_duplicates(['name', 'platform', 'year_of_release'])"
   ]
  },
  {
   "cell_type": "code",
   "execution_count": 13,
   "metadata": {},
   "outputs": [
    {
     "data": {
      "text/html": [
       "<div>\n",
       "<style scoped>\n",
       "    .dataframe tbody tr th:only-of-type {\n",
       "        vertical-align: middle;\n",
       "    }\n",
       "\n",
       "    .dataframe tbody tr th {\n",
       "        vertical-align: top;\n",
       "    }\n",
       "\n",
       "    .dataframe thead th {\n",
       "        text-align: right;\n",
       "    }\n",
       "</style>\n",
       "<table border=\"1\" class=\"dataframe\">\n",
       "  <thead>\n",
       "    <tr style=\"text-align: right;\">\n",
       "      <th></th>\n",
       "      <th>name</th>\n",
       "      <th>platform</th>\n",
       "      <th>year_of_release</th>\n",
       "      <th>genre</th>\n",
       "      <th>na_sales</th>\n",
       "      <th>eu_sales</th>\n",
       "      <th>jp_sales</th>\n",
       "      <th>other_sales</th>\n",
       "      <th>critic_score</th>\n",
       "      <th>user_score</th>\n",
       "      <th>rating</th>\n",
       "      <th>all_sales</th>\n",
       "    </tr>\n",
       "  </thead>\n",
       "  <tbody>\n",
       "    <tr>\n",
       "      <th>0</th>\n",
       "      <td>Wii Sports</td>\n",
       "      <td>Wii</td>\n",
       "      <td>2006</td>\n",
       "      <td>Sports</td>\n",
       "      <td>41.36</td>\n",
       "      <td>28.96</td>\n",
       "      <td>3.77</td>\n",
       "      <td>8.45</td>\n",
       "      <td>76.0</td>\n",
       "      <td>8.0</td>\n",
       "      <td>E</td>\n",
       "      <td>82.54</td>\n",
       "    </tr>\n",
       "    <tr>\n",
       "      <th>1</th>\n",
       "      <td>Super Mario Bros.</td>\n",
       "      <td>NES</td>\n",
       "      <td>1985</td>\n",
       "      <td>Platform</td>\n",
       "      <td>29.08</td>\n",
       "      <td>3.58</td>\n",
       "      <td>6.81</td>\n",
       "      <td>0.77</td>\n",
       "      <td>NaN</td>\n",
       "      <td>NaN</td>\n",
       "      <td>NaN</td>\n",
       "      <td>40.24</td>\n",
       "    </tr>\n",
       "    <tr>\n",
       "      <th>2</th>\n",
       "      <td>Mario Kart Wii</td>\n",
       "      <td>Wii</td>\n",
       "      <td>2008</td>\n",
       "      <td>Racing</td>\n",
       "      <td>15.68</td>\n",
       "      <td>12.76</td>\n",
       "      <td>3.79</td>\n",
       "      <td>3.29</td>\n",
       "      <td>82.0</td>\n",
       "      <td>8.3</td>\n",
       "      <td>E</td>\n",
       "      <td>35.52</td>\n",
       "    </tr>\n",
       "    <tr>\n",
       "      <th>3</th>\n",
       "      <td>Wii Sports Resort</td>\n",
       "      <td>Wii</td>\n",
       "      <td>2009</td>\n",
       "      <td>Sports</td>\n",
       "      <td>15.61</td>\n",
       "      <td>10.93</td>\n",
       "      <td>3.28</td>\n",
       "      <td>2.95</td>\n",
       "      <td>80.0</td>\n",
       "      <td>8.0</td>\n",
       "      <td>E</td>\n",
       "      <td>32.77</td>\n",
       "    </tr>\n",
       "    <tr>\n",
       "      <th>4</th>\n",
       "      <td>Pokemon Red/Pokemon Blue</td>\n",
       "      <td>GB</td>\n",
       "      <td>1996</td>\n",
       "      <td>Role-Playing</td>\n",
       "      <td>11.27</td>\n",
       "      <td>8.89</td>\n",
       "      <td>10.22</td>\n",
       "      <td>1.00</td>\n",
       "      <td>NaN</td>\n",
       "      <td>NaN</td>\n",
       "      <td>NaN</td>\n",
       "      <td>31.38</td>\n",
       "    </tr>\n",
       "    <tr>\n",
       "      <th>5</th>\n",
       "      <td>Tetris</td>\n",
       "      <td>GB</td>\n",
       "      <td>1989</td>\n",
       "      <td>Puzzle</td>\n",
       "      <td>23.20</td>\n",
       "      <td>2.26</td>\n",
       "      <td>4.22</td>\n",
       "      <td>0.58</td>\n",
       "      <td>NaN</td>\n",
       "      <td>NaN</td>\n",
       "      <td>NaN</td>\n",
       "      <td>30.26</td>\n",
       "    </tr>\n",
       "    <tr>\n",
       "      <th>6</th>\n",
       "      <td>New Super Mario Bros.</td>\n",
       "      <td>DS</td>\n",
       "      <td>2006</td>\n",
       "      <td>Platform</td>\n",
       "      <td>11.28</td>\n",
       "      <td>9.14</td>\n",
       "      <td>6.50</td>\n",
       "      <td>2.88</td>\n",
       "      <td>89.0</td>\n",
       "      <td>8.5</td>\n",
       "      <td>E</td>\n",
       "      <td>29.80</td>\n",
       "    </tr>\n",
       "  </tbody>\n",
       "</table>\n",
       "</div>"
      ],
      "text/plain": [
       "                       name platform  year_of_release         genre  na_sales  \\\n",
       "0                Wii Sports      Wii             2006        Sports     41.36   \n",
       "1         Super Mario Bros.      NES             1985      Platform     29.08   \n",
       "2            Mario Kart Wii      Wii             2008        Racing     15.68   \n",
       "3         Wii Sports Resort      Wii             2009        Sports     15.61   \n",
       "4  Pokemon Red/Pokemon Blue       GB             1996  Role-Playing     11.27   \n",
       "5                    Tetris       GB             1989        Puzzle     23.20   \n",
       "6     New Super Mario Bros.       DS             2006      Platform     11.28   \n",
       "\n",
       "   eu_sales  jp_sales  other_sales  critic_score  user_score rating  all_sales  \n",
       "0     28.96      3.77         8.45          76.0         8.0      E      82.54  \n",
       "1      3.58      6.81         0.77           NaN         NaN    NaN      40.24  \n",
       "2     12.76      3.79         3.29          82.0         8.3      E      35.52  \n",
       "3     10.93      3.28         2.95          80.0         8.0      E      32.77  \n",
       "4      8.89     10.22         1.00           NaN         NaN    NaN      31.38  \n",
       "5      2.26      4.22         0.58           NaN         NaN    NaN      30.26  \n",
       "6      9.14      6.50         2.88          89.0         8.5      E      29.80  "
      ]
     },
     "execution_count": 13,
     "metadata": {},
     "output_type": "execute_result"
    }
   ],
   "source": [
    "#Добавим столбец с суммарной продажей во всех регионах\n",
    "df['all_sales'] = df['na_sales'] +  df['eu_sales'] +  df['jp_sales'] +  df['other_sales']\n",
    "#Проверяем\n",
    "df.head(7)"
   ]
  },
  {
   "cell_type": "markdown",
   "metadata": {},
   "source": [
    "#### Вывод: на втором этапе мы провели подготовку данных к анализу, а именно:привели названия столбцов к нижнему регистру, удалили строки, где не указанно название игры и жанр, привели столбец с датой к типу данный datetime64, поменяли тип данных столбца оценки пользователей на float, проверили датафрейм на дупликаты и добавили столбец с сумарными продажами во всех регионах."
   ]
  },
  {
   "cell_type": "markdown",
   "metadata": {},
   "source": [
    "## Шаг 3. Исследовательский анализ данных."
   ]
  },
  {
   "cell_type": "markdown",
   "metadata": {},
   "source": [
    "### Рассмотрим сколько игр выпускалось в разные годы"
   ]
  },
  {
   "cell_type": "code",
   "execution_count": 14,
   "metadata": {},
   "outputs": [],
   "source": [
    "#Сгруппируем данные по годам"
   ]
  },
  {
   "cell_type": "code",
   "execution_count": 15,
   "metadata": {},
   "outputs": [
    {
     "data": {
      "text/html": [
       "<div>\n",
       "<style scoped>\n",
       "    .dataframe tbody tr th:only-of-type {\n",
       "        vertical-align: middle;\n",
       "    }\n",
       "\n",
       "    .dataframe tbody tr th {\n",
       "        vertical-align: top;\n",
       "    }\n",
       "\n",
       "    .dataframe thead th {\n",
       "        text-align: right;\n",
       "    }\n",
       "</style>\n",
       "<table border=\"1\" class=\"dataframe\">\n",
       "  <thead>\n",
       "    <tr style=\"text-align: right;\">\n",
       "      <th></th>\n",
       "      <th>name</th>\n",
       "    </tr>\n",
       "    <tr>\n",
       "      <th>year_of_release</th>\n",
       "      <th></th>\n",
       "    </tr>\n",
       "  </thead>\n",
       "  <tbody>\n",
       "    <tr>\n",
       "      <th>1980</th>\n",
       "      <td>9</td>\n",
       "    </tr>\n",
       "    <tr>\n",
       "      <th>1981</th>\n",
       "      <td>46</td>\n",
       "    </tr>\n",
       "    <tr>\n",
       "      <th>1982</th>\n",
       "      <td>36</td>\n",
       "    </tr>\n",
       "    <tr>\n",
       "      <th>1983</th>\n",
       "      <td>17</td>\n",
       "    </tr>\n",
       "    <tr>\n",
       "      <th>1984</th>\n",
       "      <td>14</td>\n",
       "    </tr>\n",
       "    <tr>\n",
       "      <th>1985</th>\n",
       "      <td>14</td>\n",
       "    </tr>\n",
       "    <tr>\n",
       "      <th>1986</th>\n",
       "      <td>21</td>\n",
       "    </tr>\n",
       "    <tr>\n",
       "      <th>1987</th>\n",
       "      <td>16</td>\n",
       "    </tr>\n",
       "    <tr>\n",
       "      <th>1988</th>\n",
       "      <td>15</td>\n",
       "    </tr>\n",
       "    <tr>\n",
       "      <th>1989</th>\n",
       "      <td>17</td>\n",
       "    </tr>\n",
       "    <tr>\n",
       "      <th>1990</th>\n",
       "      <td>16</td>\n",
       "    </tr>\n",
       "    <tr>\n",
       "      <th>1991</th>\n",
       "      <td>41</td>\n",
       "    </tr>\n",
       "    <tr>\n",
       "      <th>1992</th>\n",
       "      <td>43</td>\n",
       "    </tr>\n",
       "    <tr>\n",
       "      <th>1993</th>\n",
       "      <td>60</td>\n",
       "    </tr>\n",
       "    <tr>\n",
       "      <th>1994</th>\n",
       "      <td>121</td>\n",
       "    </tr>\n",
       "    <tr>\n",
       "      <th>1995</th>\n",
       "      <td>219</td>\n",
       "    </tr>\n",
       "    <tr>\n",
       "      <th>1996</th>\n",
       "      <td>263</td>\n",
       "    </tr>\n",
       "    <tr>\n",
       "      <th>1997</th>\n",
       "      <td>289</td>\n",
       "    </tr>\n",
       "    <tr>\n",
       "      <th>1998</th>\n",
       "      <td>379</td>\n",
       "    </tr>\n",
       "    <tr>\n",
       "      <th>1999</th>\n",
       "      <td>338</td>\n",
       "    </tr>\n",
       "    <tr>\n",
       "      <th>2000</th>\n",
       "      <td>350</td>\n",
       "    </tr>\n",
       "    <tr>\n",
       "      <th>2001</th>\n",
       "      <td>482</td>\n",
       "    </tr>\n",
       "    <tr>\n",
       "      <th>2002</th>\n",
       "      <td>829</td>\n",
       "    </tr>\n",
       "    <tr>\n",
       "      <th>2003</th>\n",
       "      <td>775</td>\n",
       "    </tr>\n",
       "    <tr>\n",
       "      <th>2004</th>\n",
       "      <td>762</td>\n",
       "    </tr>\n",
       "    <tr>\n",
       "      <th>2005</th>\n",
       "      <td>939</td>\n",
       "    </tr>\n",
       "    <tr>\n",
       "      <th>2006</th>\n",
       "      <td>1006</td>\n",
       "    </tr>\n",
       "    <tr>\n",
       "      <th>2007</th>\n",
       "      <td>1197</td>\n",
       "    </tr>\n",
       "    <tr>\n",
       "      <th>2008</th>\n",
       "      <td>1427</td>\n",
       "    </tr>\n",
       "    <tr>\n",
       "      <th>2009</th>\n",
       "      <td>1426</td>\n",
       "    </tr>\n",
       "    <tr>\n",
       "      <th>2010</th>\n",
       "      <td>1255</td>\n",
       "    </tr>\n",
       "    <tr>\n",
       "      <th>2011</th>\n",
       "      <td>1136</td>\n",
       "    </tr>\n",
       "    <tr>\n",
       "      <th>2012</th>\n",
       "      <td>653</td>\n",
       "    </tr>\n",
       "    <tr>\n",
       "      <th>2013</th>\n",
       "      <td>544</td>\n",
       "    </tr>\n",
       "    <tr>\n",
       "      <th>2014</th>\n",
       "      <td>581</td>\n",
       "    </tr>\n",
       "    <tr>\n",
       "      <th>2015</th>\n",
       "      <td>606</td>\n",
       "    </tr>\n",
       "    <tr>\n",
       "      <th>2016</th>\n",
       "      <td>502</td>\n",
       "    </tr>\n",
       "  </tbody>\n",
       "</table>\n",
       "</div>"
      ],
      "text/plain": [
       "                 name\n",
       "year_of_release      \n",
       "1980                9\n",
       "1981               46\n",
       "1982               36\n",
       "1983               17\n",
       "1984               14\n",
       "1985               14\n",
       "1986               21\n",
       "1987               16\n",
       "1988               15\n",
       "1989               17\n",
       "1990               16\n",
       "1991               41\n",
       "1992               43\n",
       "1993               60\n",
       "1994              121\n",
       "1995              219\n",
       "1996              263\n",
       "1997              289\n",
       "1998              379\n",
       "1999              338\n",
       "2000              350\n",
       "2001              482\n",
       "2002              829\n",
       "2003              775\n",
       "2004              762\n",
       "2005              939\n",
       "2006             1006\n",
       "2007             1197\n",
       "2008             1427\n",
       "2009             1426\n",
       "2010             1255\n",
       "2011             1136\n",
       "2012              653\n",
       "2013              544\n",
       "2014              581\n",
       "2015              606\n",
       "2016              502"
      ]
     },
     "execution_count": 15,
     "metadata": {},
     "output_type": "execute_result"
    }
   ],
   "source": [
    "df.groupby(['year_of_release']).agg({'name':'count'})"
   ]
  },
  {
   "cell_type": "code",
   "execution_count": 16,
   "metadata": {},
   "outputs": [
    {
     "data": {
      "image/png": "[encoded data removed]",
      "text/plain": [
       "<Figure size 648x360 with 1 Axes>"
      ]
     },
     "metadata": {
      "needs_background": "light"
     },
     "output_type": "display_data"
    }
   ],
   "source": [
    "df.groupby(['year_of_release']).agg({'name':'count'}).plot(grid=True, figsize=(9, 5), xlabel='Год выпуска', ylabel='Количество игр', title='График выпуска игр по годам', label='Количество выпущенных игр', legend=False);"
   ]
  },
  {
   "cell_type": "markdown",
   "metadata": {},
   "source": [
    "На графике мы видим, что с 1990 по 2006-7 количество выпущенных игр в год активно росло, а с 2007 по 2015 пошел резкий спад"
   ]
  },
  {
   "cell_type": "markdown",
   "metadata": {},
   "source": [
    "### Рассмотрим как менялись продажи по платформам"
   ]
  },
  {
   "cell_type": "markdown",
   "metadata": {},
   "source": [
    "#### Сгруппируем данные по платформам"
   ]
  },
  {
   "cell_type": "code",
   "execution_count": 17,
   "metadata": {},
   "outputs": [
    {
     "data": {
      "image/png": "[encoded data removed]",
      "text/plain": [
       "<Figure size 720x432 with 1 Axes>"
      ]
     },
     "metadata": {
      "needs_background": "light"
     },
     "output_type": "display_data"
    }
   ],
   "source": [
    "#Сгруппируем методом groupby, отсортируем по убыванию и построим график.\n",
    "df.groupby(['platform']).agg({'all_sales':'sum'}).sort_values(by='all_sales', ascending=False).plot(grid=True, kind='bar', figsize=(10, 6), title='График продаж игр по платформам', xlabel='Платформа', ylabel='количество продаж в млн');"
   ]
  },
  {
   "cell_type": "markdown",
   "metadata": {},
   "source": [
    "На графике видно, что явный лидер PS2 с продажами более 1200 млн, далее идет X360, PS3, Wii, DS, PS"
   ]
  },
  {
   "cell_type": "markdown",
   "metadata": {},
   "source": [
    "#### Выберем платформы с наибольшими суммарными продажами: PS2, X360, PS3, Wii, DS, PS и построим распределение продаж по годам."
   ]
  },
  {
   "cell_type": "code",
   "execution_count": 18,
   "metadata": {},
   "outputs": [
    {
     "data": {
      "image/png": "[encoded data removed]",
      "text/plain": [
       "<Figure size 1008x432 with 1 Axes>"
      ]
     },
     "metadata": {
      "needs_background": "light"
     },
     "output_type": "display_data"
    }
   ],
   "source": [
    "#Построим график распределения продаж по годам для PS2\n",
    "df.query('platform == \"PS2\"').groupby(['year_of_release']).agg({'all_sales':'sum'}).plot(y='all_sales', kind='bar', figsize=(14, 6), grid=True, xlabel='Год', ylabel='Количество продаж в млн.', title='Распределения продаж по годам для PS2');"
   ]
  },
  {
   "cell_type": "markdown",
   "metadata": {},
   "source": [
    "Из графика распределения продаж по годам мы видим, что с 2001 по 2004г. платформа набирала популярность и было увеличение продаж, а после пошел спад и к 200-9г платформа практически потеряла популярность"
   ]
  },
  {
   "cell_type": "code",
   "execution_count": 19,
   "metadata": {},
   "outputs": [
    {
     "data": {
      "image/png": "[encoded data removed]",
      "text/plain": [
       "<Figure size 1008x432 with 1 Axes>"
      ]
     },
     "metadata": {
      "needs_background": "light"
     },
     "output_type": "display_data"
    }
   ],
   "source": [
    "##Построим график распределения продаж по годам для X360\n",
    "df.query('platform == \"X360\"').groupby(['year_of_release']).agg({'all_sales':'sum'}).plot(y='all_sales', kind='bar', figsize=(14, 6), grid=True, xlabel='Год', ylabel='Количество продаж в млн.', title='Распределения продаж по годам для X360');"
   ]
  },
  {
   "cell_type": "markdown",
   "metadata": {},
   "source": [
    "Из графика распределения продаж по годам для X360 видно, что с 2005 платформа набирала популярность и в 2010 был пик продаж, а далее поше спад и к 2014г. про платформу почти забыли"
   ]
  },
  {
   "cell_type": "code",
   "execution_count": 20,
   "metadata": {},
   "outputs": [
    {
     "data": {
      "image/png": "[encoded data removed]",
      "text/plain": [
       "<Figure size 1008x432 with 1 Axes>"
      ]
     },
     "metadata": {
      "needs_background": "light"
     },
     "output_type": "display_data"
    }
   ],
   "source": [
    "#Построим график распределения продаж по годам для PS3\n",
    "df.query('platform == \"PS3\"').groupby(['year_of_release']).agg({'all_sales':'sum'}).plot(y='all_sales', kind='bar', figsize=(14, 6), grid=True, xlabel='Год', ylabel='Количество продаж в млн.', title='Распределения продаж по годам для PS3');"
   ]
  },
  {
   "cell_type": "code",
   "execution_count": 21,
   "metadata": {},
   "outputs": [
    {
     "data": {
      "image/png": "[encoded data removed]",
      "text/plain": [
       "<Figure size 1008x432 with 1 Axes>"
      ]
     },
     "metadata": {
      "needs_background": "light"
     },
     "output_type": "display_data"
    }
   ],
   "source": [
    "#Построим график распределения продаж по годам для Wii\n",
    "df.query('platform == \"Wii\"').groupby(['year_of_release']).agg({'all_sales':'sum'}).plot(y='all_sales', kind='bar', figsize=(14, 6), grid=True, xlabel='Год', ylabel='Количество продаж в млн.', title='Распределения продаж по годам для Wii');"
   ]
  },
  {
   "cell_type": "markdown",
   "metadata": {},
   "source": [
    "Из графика распределения продаж по годам для Wii видно, что начиная с 2006 года была популярна и до 2009 набирала популярность, а после пошел резкий спад и к 2012г. стала практически не актуальна для пользователей."
   ]
  },
  {
   "cell_type": "code",
   "execution_count": 22,
   "metadata": {},
   "outputs": [
    {
     "data": {
      "image/png": "[encoded data removed]",
      "text/plain": [
       "<Figure size 1008x432 with 1 Axes>"
      ]
     },
     "metadata": {
      "needs_background": "light"
     },
     "output_type": "display_data"
    }
   ],
   "source": [
    "#Построим график распределения продаж по годам для DS\n",
    "df.query('platform == \"DS\"').groupby(['year_of_release']).agg({'all_sales':'sum'}).plot(y='all_sales', kind='bar', figsize=(14, 6), grid=True, xlabel='Год', ylabel='Количество продаж в млн.', title='Распределения продаж по годам дя DS');"
   ]
  },
  {
   "cell_type": "markdown",
   "metadata": {},
   "source": [
    "Из графика распределения продаж по годам для DS мы видим, что платфрма с 2005-9г. была популярна с пиками продаж 2007-8г, к 2012 году потеряла популярность."
   ]
  },
  {
   "cell_type": "code",
   "execution_count": 23,
   "metadata": {},
   "outputs": [
    {
     "data": {
      "image/png": "[encoded data removed]",
      "text/plain": [
       "<Figure size 1008x432 with 1 Axes>"
      ]
     },
     "metadata": {
      "needs_background": "light"
     },
     "output_type": "display_data"
    }
   ],
   "source": [
    "#Построим график распределения продаж по годам для PS\n",
    "df.query('platform == \"PS\"').groupby(['year_of_release']).agg({'all_sales':'sum'}).plot(y='all_sales', kind='bar', figsize=(14, 6), grid=True, xlabel='Год', ylabel='Количество продаж в млн.', title='Распределения продаж по годам дя PS');"
   ]
  },
  {
   "cell_type": "markdown",
   "metadata": {},
   "source": [
    "На графике распределения продаж по годам для PS видим, что начиная с 94 по 98 платформа активно набирала популярность, а после 98 года продажи начали уменьшаться и к 2002 году практически сошли на нет."
   ]
  },
  {
   "cell_type": "code",
   "execution_count": 24,
   "metadata": {},
   "outputs": [
    {
     "data": {
      "image/png": "[encoded data removed]",
      "text/plain": [
       "<Figure size 1008x432 with 1 Axes>"
      ]
     },
     "metadata": {
      "needs_background": "light"
     },
     "output_type": "display_data"
    },
    {
     "data": {
      "image/png": "[encoded data removed]",
      "text/plain": [
       "<Figure size 1008x432 with 1 Axes>"
      ]
     },
     "metadata": {
      "needs_background": "light"
     },
     "output_type": "display_data"
    },
    {
     "data": {
      "image/png": "[encoded data removed]",
      "text/plain": [
       "<Figure size 1008x432 with 1 Axes>"
      ]
     },
     "metadata": {
      "needs_background": "light"
     },
     "output_type": "display_data"
    }
   ],
   "source": [
    "# код ревьюера\n",
    "for platform in ['PS3', 'XOne', 'DS']:\n",
    "    \n",
    "    df.query('platform == @platform').groupby(['year_of_release']).agg({'all_sales':'sum'}).plot(y='all_sales', kind='bar'\n",
    "                                                                                                 , figsize=(14, 6)\n",
    "                                                                                                 , grid=True\n",
    "                                                                                                 , xlabel='Год'\n",
    "                                                                                                 , ylabel='Количество продаж в млн.'\n",
    "                                                                                                 , title=f'Распределения продаж по годам для {platform}');"
   ]
  },
  {
   "cell_type": "markdown",
   "metadata": {},
   "source": [
    "#### Вывод: мы рассмотрели графики распределения продаж самых популярних платформ по годам и можем сказать, что платформа держит актуальность в среднем 5-6 лет, после чего появляется новая, а старая становится не актуальна."
   ]
  },
  {
   "cell_type": "markdown",
   "metadata": {},
   "source": [
    "### Возьмем данные за соответствующий актуальный период 2013-2016г. и рассмотрим какие платформы лидируют по продажам."
   ]
  },
  {
   "cell_type": "code",
   "execution_count": 25,
   "metadata": {},
   "outputs": [
    {
     "data": {
      "text/plain": [
       "array([2013, 2015, 2014, 2016])"
      ]
     },
     "execution_count": 25,
     "metadata": {},
     "output_type": "execute_result"
    }
   ],
   "source": [
    "#Возьмем срез данных за 2013-2016 год\n",
    "df_actual = df.query('year_of_release >= 2013')\n",
    "df_actual['year_of_release'].unique() #Проверим уникальность года"
   ]
  },
  {
   "cell_type": "code",
   "execution_count": 26,
   "metadata": {},
   "outputs": [
    {
     "data": {
      "text/html": [
       "<div>\n",
       "<style scoped>\n",
       "    .dataframe tbody tr th:only-of-type {\n",
       "        vertical-align: middle;\n",
       "    }\n",
       "\n",
       "    .dataframe tbody tr th {\n",
       "        vertical-align: top;\n",
       "    }\n",
       "\n",
       "    .dataframe thead th {\n",
       "        text-align: right;\n",
       "    }\n",
       "</style>\n",
       "<table border=\"1\" class=\"dataframe\">\n",
       "  <thead>\n",
       "    <tr style=\"text-align: right;\">\n",
       "      <th></th>\n",
       "      <th>name</th>\n",
       "      <th>platform</th>\n",
       "      <th>year_of_release</th>\n",
       "      <th>genre</th>\n",
       "      <th>na_sales</th>\n",
       "      <th>eu_sales</th>\n",
       "      <th>jp_sales</th>\n",
       "      <th>other_sales</th>\n",
       "      <th>critic_score</th>\n",
       "      <th>user_score</th>\n",
       "      <th>rating</th>\n",
       "      <th>all_sales</th>\n",
       "    </tr>\n",
       "  </thead>\n",
       "  <tbody>\n",
       "    <tr>\n",
       "      <th>16</th>\n",
       "      <td>Grand Theft Auto V</td>\n",
       "      <td>PS3</td>\n",
       "      <td>2013</td>\n",
       "      <td>Action</td>\n",
       "      <td>7.02</td>\n",
       "      <td>9.09</td>\n",
       "      <td>0.98</td>\n",
       "      <td>3.96</td>\n",
       "      <td>97.0</td>\n",
       "      <td>8.2</td>\n",
       "      <td>M</td>\n",
       "      <td>21.05</td>\n",
       "    </tr>\n",
       "    <tr>\n",
       "      <th>23</th>\n",
       "      <td>Grand Theft Auto V</td>\n",
       "      <td>X360</td>\n",
       "      <td>2013</td>\n",
       "      <td>Action</td>\n",
       "      <td>9.66</td>\n",
       "      <td>5.14</td>\n",
       "      <td>0.06</td>\n",
       "      <td>1.41</td>\n",
       "      <td>97.0</td>\n",
       "      <td>8.1</td>\n",
       "      <td>M</td>\n",
       "      <td>16.27</td>\n",
       "    </tr>\n",
       "    <tr>\n",
       "      <th>31</th>\n",
       "      <td>Call of Duty: Black Ops 3</td>\n",
       "      <td>PS4</td>\n",
       "      <td>2015</td>\n",
       "      <td>Shooter</td>\n",
       "      <td>6.03</td>\n",
       "      <td>5.86</td>\n",
       "      <td>0.36</td>\n",
       "      <td>2.38</td>\n",
       "      <td>NaN</td>\n",
       "      <td>NaN</td>\n",
       "      <td>NaN</td>\n",
       "      <td>14.63</td>\n",
       "    </tr>\n",
       "    <tr>\n",
       "      <th>33</th>\n",
       "      <td>Pokemon X/Pokemon Y</td>\n",
       "      <td>3DS</td>\n",
       "      <td>2013</td>\n",
       "      <td>Role-Playing</td>\n",
       "      <td>5.28</td>\n",
       "      <td>4.19</td>\n",
       "      <td>4.35</td>\n",
       "      <td>0.78</td>\n",
       "      <td>NaN</td>\n",
       "      <td>NaN</td>\n",
       "      <td>NaN</td>\n",
       "      <td>14.60</td>\n",
       "    </tr>\n",
       "    <tr>\n",
       "      <th>42</th>\n",
       "      <td>Grand Theft Auto V</td>\n",
       "      <td>PS4</td>\n",
       "      <td>2014</td>\n",
       "      <td>Action</td>\n",
       "      <td>3.96</td>\n",
       "      <td>6.31</td>\n",
       "      <td>0.38</td>\n",
       "      <td>1.97</td>\n",
       "      <td>97.0</td>\n",
       "      <td>8.3</td>\n",
       "      <td>M</td>\n",
       "      <td>12.62</td>\n",
       "    </tr>\n",
       "    <tr>\n",
       "      <th>47</th>\n",
       "      <td>Pokemon Omega Ruby/Pokemon Alpha Sapphire</td>\n",
       "      <td>3DS</td>\n",
       "      <td>2014</td>\n",
       "      <td>Role-Playing</td>\n",
       "      <td>4.35</td>\n",
       "      <td>3.49</td>\n",
       "      <td>3.10</td>\n",
       "      <td>0.74</td>\n",
       "      <td>NaN</td>\n",
       "      <td>NaN</td>\n",
       "      <td>NaN</td>\n",
       "      <td>11.68</td>\n",
       "    </tr>\n",
       "    <tr>\n",
       "      <th>60</th>\n",
       "      <td>Call of Duty: Ghosts</td>\n",
       "      <td>X360</td>\n",
       "      <td>2013</td>\n",
       "      <td>Shooter</td>\n",
       "      <td>6.73</td>\n",
       "      <td>2.56</td>\n",
       "      <td>0.04</td>\n",
       "      <td>0.91</td>\n",
       "      <td>73.0</td>\n",
       "      <td>2.6</td>\n",
       "      <td>M</td>\n",
       "      <td>10.24</td>\n",
       "    </tr>\n",
       "    <tr>\n",
       "      <th>69</th>\n",
       "      <td>Call of Duty: Ghosts</td>\n",
       "      <td>PS3</td>\n",
       "      <td>2013</td>\n",
       "      <td>Shooter</td>\n",
       "      <td>4.10</td>\n",
       "      <td>3.63</td>\n",
       "      <td>0.38</td>\n",
       "      <td>1.25</td>\n",
       "      <td>71.0</td>\n",
       "      <td>2.6</td>\n",
       "      <td>M</td>\n",
       "      <td>9.36</td>\n",
       "    </tr>\n",
       "  </tbody>\n",
       "</table>\n",
       "</div>"
      ],
      "text/plain": [
       "                                         name platform  year_of_release  \\\n",
       "16                         Grand Theft Auto V      PS3             2013   \n",
       "23                         Grand Theft Auto V     X360             2013   \n",
       "31                  Call of Duty: Black Ops 3      PS4             2015   \n",
       "33                        Pokemon X/Pokemon Y      3DS             2013   \n",
       "42                         Grand Theft Auto V      PS4             2014   \n",
       "47  Pokemon Omega Ruby/Pokemon Alpha Sapphire      3DS             2014   \n",
       "60                       Call of Duty: Ghosts     X360             2013   \n",
       "69                       Call of Duty: Ghosts      PS3             2013   \n",
       "\n",
       "           genre  na_sales  eu_sales  jp_sales  other_sales  critic_score  \\\n",
       "16        Action      7.02      9.09      0.98         3.96          97.0   \n",
       "23        Action      9.66      5.14      0.06         1.41          97.0   \n",
       "31       Shooter      6.03      5.86      0.36         2.38           NaN   \n",
       "33  Role-Playing      5.28      4.19      4.35         0.78           NaN   \n",
       "42        Action      3.96      6.31      0.38         1.97          97.0   \n",
       "47  Role-Playing      4.35      3.49      3.10         0.74           NaN   \n",
       "60       Shooter      6.73      2.56      0.04         0.91          73.0   \n",
       "69       Shooter      4.10      3.63      0.38         1.25          71.0   \n",
       "\n",
       "    user_score rating  all_sales  \n",
       "16         8.2      M      21.05  \n",
       "23         8.1      M      16.27  \n",
       "31         NaN    NaN      14.63  \n",
       "33         NaN    NaN      14.60  \n",
       "42         8.3      M      12.62  \n",
       "47         NaN    NaN      11.68  \n",
       "60         2.6      M      10.24  \n",
       "69         2.6      M       9.36  "
      ]
     },
     "execution_count": 26,
     "metadata": {},
     "output_type": "execute_result"
    }
   ],
   "source": [
    "#проверим наш срез\n",
    "df_actual.head(8)"
   ]
  },
  {
   "cell_type": "code",
   "execution_count": 27,
   "metadata": {},
   "outputs": [
    {
     "data": {
      "image/png": "[encoded data removed]",
      "text/plain": [
       "<Figure size 792x432 with 1 Axes>"
      ]
     },
     "metadata": {
      "needs_background": "light"
     },
     "output_type": "display_data"
    }
   ],
   "source": [
    "#Построим график распределения продаж по платформам за 2013-16г.\n",
    "df_actual.groupby(['platform']).agg({'all_sales':'sum'}).sort_values(by='all_sales', ascending=False).plot(kind='bar', figsize=(11, 6), xlabel='Платформа', ylabel='Количество продаж млн.', title='График распределения продаж по платформам за 2013-16г.');"
   ]
  },
  {
   "cell_type": "markdown",
   "metadata": {},
   "source": [
    "Из графика мы видим, что к нашим популярным платформам добавились новые: PS4, XOne, 3DS и WiiU, рассмотрим распределение продаж по годам для этих платформ."
   ]
  },
  {
   "cell_type": "code",
   "execution_count": 28,
   "metadata": {},
   "outputs": [
    {
     "data": {
      "image/png": "[encoded data removed]",
      "text/plain": [
       "<Figure size 1008x432 with 1 Axes>"
      ]
     },
     "metadata": {
      "needs_background": "light"
     },
     "output_type": "display_data"
    }
   ],
   "source": [
    "#Рассмотрим PS4\n",
    "df_actual.query('platform == \"PS4\"').groupby(['year_of_release']).agg({'all_sales':'sum'}).plot(y='all_sales', kind='bar', figsize=(14, 6), grid=True, xlabel='Год', ylabel='Количество продаж в млн.', title='Распределения продаж по годам дя PS4');"
   ]
  },
  {
   "cell_type": "markdown",
   "metadata": {},
   "source": [
    "На графике видим, что PS4 появилась в 2013 году и набирает свою популярность с каждым годом."
   ]
  },
  {
   "cell_type": "code",
   "execution_count": 29,
   "metadata": {},
   "outputs": [
    {
     "data": {
      "image/png": "[encoded data removed]",
      "text/plain": [
       "<Figure size 1008x432 with 1 Axes>"
      ]
     },
     "metadata": {
      "needs_background": "light"
     },
     "output_type": "display_data"
    }
   ],
   "source": [
    "#Рассмотрим платформу XOne \n",
    "df_actual.query('platform == \"XOne\"').groupby(['year_of_release']).agg({'all_sales':'sum'}).plot(y='all_sales', kind='bar', figsize=(14, 6), grid=True, xlabel='Год', ylabel='Количество продаж в млн.', title='Распределения продаж по годам дя XOne');"
   ]
  },
  {
   "cell_type": "markdown",
   "metadata": {},
   "source": [
    "На графике мы видим, что Xone появилась в 2013 году и начала набирать свою популярность, можно сделать прогноз, что данная платформа будет набирать свою популярность до 2017-18г. а затем пойдет на спад."
   ]
  },
  {
   "cell_type": "code",
   "execution_count": 30,
   "metadata": {},
   "outputs": [
    {
     "data": {
      "image/png": "[encoded data removed]",
      "text/plain": [
       "<Figure size 1008x432 with 1 Axes>"
      ]
     },
     "metadata": {
      "needs_background": "light"
     },
     "output_type": "display_data"
    }
   ],
   "source": [
    "#Рассмотрим платформу 3DS\n",
    "df_actual.query('platform == \"3DS\"').groupby(['year_of_release']).agg({'all_sales':'sum'}).plot(y='all_sales', kind='bar', figsize=(14, 6), grid=True, xlabel='Год', ylabel='Количество продаж в млн.', title='Распределения продаж по годам дя 3DS');"
   ]
  },
  {
   "cell_type": "markdown",
   "metadata": {},
   "source": [
    "На графике видно, что популярность платформы стремительно снижается и вскоре она станет сосвсем не актуальна."
   ]
  },
  {
   "cell_type": "code",
   "execution_count": 31,
   "metadata": {},
   "outputs": [
    {
     "data": {
      "image/png": "[encoded data removed]",
      "text/plain": [
       "<Figure size 1008x432 with 1 Axes>"
      ]
     },
     "metadata": {
      "needs_background": "light"
     },
     "output_type": "display_data"
    }
   ],
   "source": [
    "#Рассмотрим платформу WiiU\n",
    "df_actual.query('platform == \"WiiU\"').groupby(['year_of_release']).agg({'all_sales':'sum'}).plot(y='all_sales', kind='bar', figsize=(14, 6), grid=True, xlabel='Год', ylabel='Количество продаж в млн.', title='Распределения продаж по годам дя WiiU');"
   ]
  },
  {
   "cell_type": "markdown",
   "metadata": {},
   "source": [
    "На графике мы видим, что продажи платформы снижаются и скоро она станет совсем не актуальна."
   ]
  },
  {
   "cell_type": "markdown",
   "metadata": {},
   "source": [
    "#### Вывод: проанализировав графики за актуальный период 2013-2016г. мы выделили несколько новых платформ: PS4, XOne, 3DS и WiiU. Можно сказать, что платформа PS4 явный лидер по продажам, появившаяся в 2013 году, которая будет набирает свою популярность и будет актуальна до 2018-19 года. Платформа XOne также появилась в 2013 году и набирает свою популярность. Платформы: 3DS и WiiU, с каждым годом теряют продажи и скоро станут не актуальны."
   ]
  },
  {
   "cell_type": "markdown",
   "metadata": {},
   "source": [
    "### Построим график «ящик с усами» по глобальным продажам игр в разбивке по платформам. Опишим результат."
   ]
  },
  {
   "cell_type": "code",
   "execution_count": 32,
   "metadata": {},
   "outputs": [
    {
     "data": {
      "image/png": "[encoded data removed]",
      "text/plain": [
       "<Figure size 864x432 with 1 Axes>"
      ]
     },
     "metadata": {
      "needs_background": "light"
     },
     "output_type": "display_data"
    }
   ],
   "source": [
    "plt.figure(figsize=(12,6))\n",
    "plt.ylim(0, 1.9)\n",
    "sns.boxplot(x=df_actual['platform'], y=df_actual['all_sales'], data=df_actual).set (title='Боксплот количества продаж по платформам');\n",
    "plt.xlabel('Платформа')\n",
    "plt.ylabel('Количество продаж в млн.');"
   ]
  },
  {
   "cell_type": "code",
   "execution_count": 33,
   "metadata": {},
   "outputs": [
    {
     "data": {
      "image/png": "[encoded data removed]",
      "text/plain": [
       "<Figure size 864x432 with 1 Axes>"
      ]
     },
     "metadata": {
      "needs_background": "light"
     },
     "output_type": "display_data"
    }
   ],
   "source": [
    "plt.figure(figsize=(12,6))\n",
    "sns.boxplot(x=df_actual['platform'], y=df_actual['all_sales'], data=df_actual).set (title='Боксплот количества продаж по платформам');\n",
    "plt.xlabel('Платформа')\n",
    "plt.ylabel('Количество продаж в млн.');"
   ]
  },
  {
   "cell_type": "markdown",
   "metadata": {},
   "source": [
    "На графиках «ящик с усами» по глобальным продажам игр в разбивке по платформам, видим, что наивысшими медианными значениями обладнают платформы: X360, PS4, WiiU и XOne, а наименьшими платформы: PSV, PSP, 3DS, PC."
   ]
  },
  {
   "cell_type": "markdown",
   "metadata": {},
   "source": [
    "### Посмотрим, как влияют на продажи внутри одной популярной платформы отзывы пользователей и критиков. Построим диаграмму рассеяния и посчитаем корреляцию между отзывами и продажами."
   ]
  },
  {
   "cell_type": "code",
   "execution_count": 34,
   "metadata": {},
   "outputs": [
    {
     "data": {
      "image/png": "[encoded data removed]",
      "text/plain": [
       "<Figure size 648x360 with 1 Axes>"
      ]
     },
     "metadata": {
      "needs_background": "light"
     },
     "output_type": "display_data"
    }
   ],
   "source": [
    "#Построим диаграмму рассеяния оценок критиков и продаж для платформы PS3\n",
    "df_actual.query('platform == \"PS3\"').plot(figsize=(9, 5), kind='scatter', x='critic_score', y='all_sales', alpha=0.6, xlabel='Оценки критиков', ylabel='Количество продаж', title='Диаграмма рассеяния оценок критиков и продаж для PS3');"
   ]
  },
  {
   "cell_type": "code",
   "execution_count": 35,
   "metadata": {},
   "outputs": [
    {
     "data": {
      "text/html": [
       "<div>\n",
       "<style scoped>\n",
       "    .dataframe tbody tr th:only-of-type {\n",
       "        vertical-align: middle;\n",
       "    }\n",
       "\n",
       "    .dataframe tbody tr th {\n",
       "        vertical-align: top;\n",
       "    }\n",
       "\n",
       "    .dataframe thead th {\n",
       "        text-align: right;\n",
       "    }\n",
       "</style>\n",
       "<table border=\"1\" class=\"dataframe\">\n",
       "  <thead>\n",
       "    <tr style=\"text-align: right;\">\n",
       "      <th></th>\n",
       "      <th>critic_score</th>\n",
       "      <th>all_sales</th>\n",
       "      <th>user_score</th>\n",
       "    </tr>\n",
       "  </thead>\n",
       "  <tbody>\n",
       "    <tr>\n",
       "      <th>critic_score</th>\n",
       "      <td>1.000000</td>\n",
       "      <td>0.334285</td>\n",
       "      <td>0.599920</td>\n",
       "    </tr>\n",
       "    <tr>\n",
       "      <th>all_sales</th>\n",
       "      <td>0.334285</td>\n",
       "      <td>1.000000</td>\n",
       "      <td>0.002394</td>\n",
       "    </tr>\n",
       "    <tr>\n",
       "      <th>user_score</th>\n",
       "      <td>0.599920</td>\n",
       "      <td>0.002394</td>\n",
       "      <td>1.000000</td>\n",
       "    </tr>\n",
       "  </tbody>\n",
       "</table>\n",
       "</div>"
      ],
      "text/plain": [
       "              critic_score  all_sales  user_score\n",
       "critic_score      1.000000   0.334285    0.599920\n",
       "all_sales         0.334285   1.000000    0.002394\n",
       "user_score        0.599920   0.002394    1.000000"
      ]
     },
     "execution_count": 35,
     "metadata": {},
     "output_type": "execute_result"
    }
   ],
   "source": [
    "PS3 = df_actual.query('platform == \"PS3\"')\n",
    "PS3[['critic_score', 'all_sales', 'user_score']].corr()"
   ]
  },
  {
   "cell_type": "markdown",
   "metadata": {},
   "source": [
    "Из диаграммы рассеяния оценок критиков и продаж для платформы PS3 мы видим, что небольшая зависимость между этими величинами, кореляция данных величин равна 0.33"
   ]
  },
  {
   "cell_type": "code",
   "execution_count": 36,
   "metadata": {},
   "outputs": [
    {
     "data": {
      "image/png": "[encoded data removed]",
      "text/plain": [
       "<Figure size 648x360 with 1 Axes>"
      ]
     },
     "metadata": {
      "needs_background": "light"
     },
     "output_type": "display_data"
    }
   ],
   "source": [
    "#Построим диаграмму рассеяния оценок пользователей и продаж для платформы PS3\n",
    "df_actual.query('platform == \"PS3\"').plot(figsize=(9, 5), kind='scatter', x='user_score', y='all_sales', alpha=0.7, xlabel='Оценки пользователей', ylabel='Количество продаж', title='Диаграмма рассеяния оценок пользоватей и продаж для PS3');"
   ]
  },
  {
   "cell_type": "markdown",
   "metadata": {},
   "source": [
    "Из диаграммы рассеяния оценок пользователей и продаж для платформы PS3 видно что между ними нет зависимости, кореляция данных величин равна 0"
   ]
  },
  {
   "cell_type": "code",
   "execution_count": 37,
   "metadata": {},
   "outputs": [
    {
     "data": {
      "text/html": [
       "<div>\n",
       "<style scoped>\n",
       "    .dataframe tbody tr th:only-of-type {\n",
       "        vertical-align: middle;\n",
       "    }\n",
       "\n",
       "    .dataframe tbody tr th {\n",
       "        vertical-align: top;\n",
       "    }\n",
       "\n",
       "    .dataframe thead th {\n",
       "        text-align: right;\n",
       "    }\n",
       "</style>\n",
       "<table border=\"1\" class=\"dataframe\">\n",
       "  <thead>\n",
       "    <tr style=\"text-align: right;\">\n",
       "      <th></th>\n",
       "      <th>critic_score</th>\n",
       "      <th>all_sales</th>\n",
       "      <th>user_score</th>\n",
       "    </tr>\n",
       "  </thead>\n",
       "  <tbody>\n",
       "    <tr>\n",
       "      <th>critic_score</th>\n",
       "      <td>1.000000</td>\n",
       "      <td>0.406568</td>\n",
       "      <td>0.557654</td>\n",
       "    </tr>\n",
       "    <tr>\n",
       "      <th>all_sales</th>\n",
       "      <td>0.406568</td>\n",
       "      <td>1.000000</td>\n",
       "      <td>-0.031957</td>\n",
       "    </tr>\n",
       "    <tr>\n",
       "      <th>user_score</th>\n",
       "      <td>0.557654</td>\n",
       "      <td>-0.031957</td>\n",
       "      <td>1.000000</td>\n",
       "    </tr>\n",
       "  </tbody>\n",
       "</table>\n",
       "</div>"
      ],
      "text/plain": [
       "              critic_score  all_sales  user_score\n",
       "critic_score      1.000000   0.406568    0.557654\n",
       "all_sales         0.406568   1.000000   -0.031957\n",
       "user_score        0.557654  -0.031957    1.000000"
      ]
     },
     "execution_count": 37,
     "metadata": {},
     "output_type": "execute_result"
    }
   ],
   "source": [
    "#Построим диаграмму рассеяния оценок критиков и продаж для платформы PS4\n",
    "PS4 = df_actual.query('platform == \"PS4\"')\n",
    "PS4[['critic_score', 'all_sales', 'user_score']].corr()"
   ]
  },
  {
   "cell_type": "code",
   "execution_count": 38,
   "metadata": {},
   "outputs": [
    {
     "data": {
      "image/png": "[encoded data removed]",
      "text/plain": [
       "<Figure size 648x360 with 1 Axes>"
      ]
     },
     "metadata": {
      "needs_background": "light"
     },
     "output_type": "display_data"
    }
   ],
   "source": [
    "PS4.plot(figsize=(9, 5), kind='scatter', x='critic_score', y='all_sales', alpha=0.7, xlabel='Оценки критиков', ylabel='Количество продаж', title='Диаграмма рассеяния оценок критиков и продаж для PS4');"
   ]
  },
  {
   "cell_type": "markdown",
   "metadata": {},
   "source": [
    "Из диаграмм рассеяния оценок критиков и продаж видно, что между этими величинами есть небольшая зависимость, кореляция равна 0.4"
   ]
  },
  {
   "cell_type": "code",
   "execution_count": 39,
   "metadata": {},
   "outputs": [
    {
     "data": {
      "image/png": "[encoded data removed]",
      "text/plain": [
       "<Figure size 648x360 with 1 Axes>"
      ]
     },
     "metadata": {
      "needs_background": "light"
     },
     "output_type": "display_data"
    }
   ],
   "source": [
    "PS4.plot(figsize=(9, 5), kind='scatter', x='user_score', y='all_sales', alpha=0.7, xlabel='Оценки пользователей', ylabel='Количество продаж', title='Диаграмма рассеяния оценок пользователей и продаж для PS4');"
   ]
  },
  {
   "cell_type": "markdown",
   "metadata": {},
   "source": [
    "Из диаграмм рассеяния оценок пользователей и продаж видно, что между этими величинами нет зависисимости, кореляция равна -0.03"
   ]
  },
  {
   "cell_type": "code",
   "execution_count": 40,
   "metadata": {},
   "outputs": [
    {
     "data": {
      "text/html": [
       "<div>\n",
       "<style scoped>\n",
       "    .dataframe tbody tr th:only-of-type {\n",
       "        vertical-align: middle;\n",
       "    }\n",
       "\n",
       "    .dataframe tbody tr th {\n",
       "        vertical-align: top;\n",
       "    }\n",
       "\n",
       "    .dataframe thead th {\n",
       "        text-align: right;\n",
       "    }\n",
       "</style>\n",
       "<table border=\"1\" class=\"dataframe\">\n",
       "  <thead>\n",
       "    <tr style=\"text-align: right;\">\n",
       "      <th></th>\n",
       "      <th>critic_score</th>\n",
       "      <th>all_sales</th>\n",
       "      <th>user_score</th>\n",
       "    </tr>\n",
       "  </thead>\n",
       "  <tbody>\n",
       "    <tr>\n",
       "      <th>critic_score</th>\n",
       "      <td>1.000000</td>\n",
       "      <td>0.350345</td>\n",
       "      <td>0.520946</td>\n",
       "    </tr>\n",
       "    <tr>\n",
       "      <th>all_sales</th>\n",
       "      <td>0.350345</td>\n",
       "      <td>1.000000</td>\n",
       "      <td>-0.011742</td>\n",
       "    </tr>\n",
       "    <tr>\n",
       "      <th>user_score</th>\n",
       "      <td>0.520946</td>\n",
       "      <td>-0.011742</td>\n",
       "      <td>1.000000</td>\n",
       "    </tr>\n",
       "  </tbody>\n",
       "</table>\n",
       "</div>"
      ],
      "text/plain": [
       "              critic_score  all_sales  user_score\n",
       "critic_score      1.000000   0.350345    0.520946\n",
       "all_sales         0.350345   1.000000   -0.011742\n",
       "user_score        0.520946  -0.011742    1.000000"
      ]
     },
     "execution_count": 40,
     "metadata": {},
     "output_type": "execute_result"
    }
   ],
   "source": [
    "#Построим диаграмму рассеяния оценок критиков и продаж для платформы X360\n",
    "X360 = df_actual.query('platform == \"X360\"')\n",
    "X360[['critic_score', 'all_sales', 'user_score']].corr()"
   ]
  },
  {
   "cell_type": "code",
   "execution_count": 41,
   "metadata": {},
   "outputs": [
    {
     "data": {
      "image/png": "[encoded data removed]",
      "text/plain": [
       "<Figure size 648x360 with 1 Axes>"
      ]
     },
     "metadata": {
      "needs_background": "light"
     },
     "output_type": "display_data"
    }
   ],
   "source": [
    "X360.plot(figsize=(9, 5), kind='scatter', x='critic_score', y='all_sales', alpha=0.7, xlabel='Оценки критиков', ylabel='Количество продаж', title='Диаграмма рассеяния оценок критиков и продаж для X360');"
   ]
  },
  {
   "cell_type": "markdown",
   "metadata": {},
   "source": [
    "Из диаграммы рассеяния оценок критиков и продаж для платформы Х360 видно что между ними есть небольшая зависимость, кореляция данных величин равна 0.35"
   ]
  },
  {
   "cell_type": "code",
   "execution_count": 42,
   "metadata": {},
   "outputs": [
    {
     "data": {
      "image/png": "[encoded data removed]",
      "text/plain": [
       "<Figure size 648x360 with 1 Axes>"
      ]
     },
     "metadata": {
      "needs_background": "light"
     },
     "output_type": "display_data"
    }
   ],
   "source": [
    "X360.plot(figsize=(9, 5), kind='scatter', x='user_score', y='all_sales', alpha=0.7, xlabel='Оценки пользователей', ylabel='Количество продаж', title='Диаграмма рассеяния оценок пользователей и продаж для X360');"
   ]
  },
  {
   "cell_type": "markdown",
   "metadata": {},
   "source": [
    "Из диаграммы рассеяния оценок пользователей и продаж для платформы X360 видно что между ними нет зависимости, кореляция данных величин равна 0"
   ]
  },
  {
   "cell_type": "code",
   "execution_count": 43,
   "metadata": {},
   "outputs": [
    {
     "data": {
      "text/html": [
       "<div>\n",
       "<style scoped>\n",
       "    .dataframe tbody tr th:only-of-type {\n",
       "        vertical-align: middle;\n",
       "    }\n",
       "\n",
       "    .dataframe tbody tr th {\n",
       "        vertical-align: top;\n",
       "    }\n",
       "\n",
       "    .dataframe thead th {\n",
       "        text-align: right;\n",
       "    }\n",
       "</style>\n",
       "<table border=\"1\" class=\"dataframe\">\n",
       "  <thead>\n",
       "    <tr style=\"text-align: right;\">\n",
       "      <th></th>\n",
       "      <th>critic_score</th>\n",
       "      <th>all_sales</th>\n",
       "      <th>user_score</th>\n",
       "    </tr>\n",
       "  </thead>\n",
       "  <tbody>\n",
       "    <tr>\n",
       "      <th>critic_score</th>\n",
       "      <td>1.000000</td>\n",
       "      <td>0.416998</td>\n",
       "      <td>0.472462</td>\n",
       "    </tr>\n",
       "    <tr>\n",
       "      <th>all_sales</th>\n",
       "      <td>0.416998</td>\n",
       "      <td>1.000000</td>\n",
       "      <td>-0.068925</td>\n",
       "    </tr>\n",
       "    <tr>\n",
       "      <th>user_score</th>\n",
       "      <td>0.472462</td>\n",
       "      <td>-0.068925</td>\n",
       "      <td>1.000000</td>\n",
       "    </tr>\n",
       "  </tbody>\n",
       "</table>\n",
       "</div>"
      ],
      "text/plain": [
       "              critic_score  all_sales  user_score\n",
       "critic_score      1.000000   0.416998    0.472462\n",
       "all_sales         0.416998   1.000000   -0.068925\n",
       "user_score        0.472462  -0.068925    1.000000"
      ]
     },
     "execution_count": 43,
     "metadata": {},
     "output_type": "execute_result"
    }
   ],
   "source": [
    "#Построим диаграмму рассеяния оценок критиков и продаж для платформы XOne, а также рассчитаем кореляцию для данных величин\n",
    "xone = df_actual.query('platform == \"XOne\"')\n",
    "xone[['critic_score', 'all_sales', 'user_score']].corr()"
   ]
  },
  {
   "cell_type": "code",
   "execution_count": 44,
   "metadata": {},
   "outputs": [
    {
     "data": {
      "image/png": "[encoded data removed]",
      "text/plain": [
       "<Figure size 648x360 with 1 Axes>"
      ]
     },
     "metadata": {
      "needs_background": "light"
     },
     "output_type": "display_data"
    }
   ],
   "source": [
    "xone.plot(figsize=(9, 5), kind='scatter', x='user_score', y='all_sales', alpha=0.7, xlabel='Оценки пользователей', ylabel='Количество продаж', title='Диаграмма рассеяния оценок пользователей и продаж для XOne');"
   ]
  },
  {
   "cell_type": "markdown",
   "metadata": {},
   "source": [
    "Из диаграммы рассеяния оценок пользователей и продаж для платформы XOne видно что между ними нем нет зависимости, кореляция равна -0.06"
   ]
  },
  {
   "cell_type": "code",
   "execution_count": 45,
   "metadata": {},
   "outputs": [
    {
     "data": {
      "image/png": "[encoded data removed]",
      "text/plain": [
       "<Figure size 648x360 with 1 Axes>"
      ]
     },
     "metadata": {
      "needs_background": "light"
     },
     "output_type": "display_data"
    }
   ],
   "source": [
    "xone.plot(figsize=(9, 5), kind='scatter', x='critic_score', y='all_sales', alpha=0.7, xlabel='Оценки критиков', ylabel='Количество продаж', title='Диаграмма рассеяния оценок критиков и продаж для XOne');"
   ]
  },
  {
   "cell_type": "markdown",
   "metadata": {},
   "source": [
    "Из диаграммы рассеяния оценок критиков и продаж для платформы XOne видим, что меджу эими величинами есть небольшая зависимость, кореляция равна 0.41"
   ]
  },
  {
   "cell_type": "markdown",
   "metadata": {},
   "source": [
    "#### Вывод: мы построили диаграммы зависимости оценок  критиков и пользователей к продажам и рассчитали кореляцю этих величин для платформ PS3, PS4, X360, XOne и выяснили, что оценки пользователей не влияют на продажи, а оценки критиков влияют с кореляцией примерно 0.4"
   ]
  },
  {
   "cell_type": "markdown",
   "metadata": {},
   "source": [
    "### Посмотрим на общее распределение игр по жанрам, выясним выделяются ли какие-то жанры по продажам."
   ]
  },
  {
   "cell_type": "code",
   "execution_count": 46,
   "metadata": {},
   "outputs": [
    {
     "data": {
      "text/plain": [
       "Action          766\n",
       "Role-Playing    292\n",
       "Adventure       245\n",
       "Sports          214\n",
       "Shooter         187\n",
       "Misc            155\n",
       "Racing           85\n",
       "Fighting         80\n",
       "Platform         74\n",
       "Simulation       62\n",
       "Strategy         56\n",
       "Puzzle           17\n",
       "Name: genre, dtype: int64"
      ]
     },
     "execution_count": 46,
     "metadata": {},
     "output_type": "execute_result"
    }
   ],
   "source": [
    "#Посмотрим распределение игр по жанрам\n",
    "df_actual['genre'].value_counts()"
   ]
  },
  {
   "cell_type": "code",
   "execution_count": 47,
   "metadata": {},
   "outputs": [
    {
     "data": {
      "image/png": "[encoded data removed]",
      "text/plain": [
       "<Figure size 648x360 with 1 Axes>"
      ]
     },
     "metadata": {
      "needs_background": "light"
     },
     "output_type": "display_data"
    }
   ],
   "source": [
    "df_actual['genre'].value_counts().plot(kind='bar', title=\"Диаграмма распределения игр по жанрам\", figsize=(9, 5));"
   ]
  },
  {
   "cell_type": "markdown",
   "metadata": {},
   "source": [
    "Из диаграамы распределения игр по жанрам видно, что самый популярные жанры это Action, Role-Playing, Adventure, а самые не популярные жанры: Puzzle, Strategy, Simulation, platform, Fighting, Racing."
   ]
  },
  {
   "cell_type": "markdown",
   "metadata": {},
   "source": [
    "Теперь посмотрим на прибыльность жанров"
   ]
  },
  {
   "cell_type": "code",
   "execution_count": 48,
   "metadata": {},
   "outputs": [
    {
     "data": {
      "image/png": "[encoded data removed]",
      "text/plain": [
       "<Figure size 864x432 with 1 Axes>"
      ]
     },
     "metadata": {
      "needs_background": "light"
     },
     "output_type": "display_data"
    }
   ],
   "source": [
    "df_actual.groupby(['genre']).agg({'all_sales': 'median'}).sort_values(by='all_sales', ascending=False).plot(kind='bar', figsize=(12, 6), grid=True, ylabel='Медианные значения продаж', title='График количества продаж по жанрам');"
   ]
  },
  {
   "cell_type": "markdown",
   "metadata": {},
   "source": [
    "Из графика медианных продаж по жанрам видим, что Shooter самый прибыльный жанр, далее идут Sports и Platform, a Adventure самый не прибыльный."
   ]
  },
  {
   "cell_type": "markdown",
   "metadata": {},
   "source": [
    "#### Вывод: из диаграамы распределения игр по жанрам видно, что самый популярные жанры это Action, Sports, Misc, Role-Playing, Shooter а самый непопулярные Puzzle, Strategy. Из графика продаж по жанрам, видим, что Shooter самый прибыльный жанр, далее идут Sports и Platform, a Adventure самый не прибыльный."
   ]
  },
  {
   "cell_type": "markdown",
   "metadata": {},
   "source": [
    "## Шаг 4. Составим портрет пользователя каждого региона (NA, EU, JP)"
   ]
  },
  {
   "cell_type": "markdown",
   "metadata": {},
   "source": [
    "### Самые популярные платформы (топ-5). Опишем различия в долях продаж."
   ]
  },
  {
   "cell_type": "code",
   "execution_count": 49,
   "metadata": {},
   "outputs": [
    {
     "data": {
      "text/plain": [
       "Text(0.5, 1.0, 'Япония')"
      ]
     },
     "execution_count": 49,
     "metadata": {},
     "output_type": "execute_result"
    },
    {
     "data": {
      "image/png": "[encoded data removed]",
      "text/plain": [
       "<Figure size 1368x504 with 3 Axes>"
      ]
     },
     "metadata": {},
     "output_type": "display_data"
    }
   ],
   "source": [
    "pna = df_actual.groupby(['platform']).agg({'na_sales':'sum'}).sort_values(by='na_sales', ascending=False).reset_index()\n",
    "peu = df_actual.groupby(['platform']).agg({'eu_sales':'sum'}).sort_values(by='eu_sales', ascending=False).reset_index()\n",
    "pjp = df_actual.groupby(['platform']).agg({'jp_sales':'sum'}).sort_values(by='jp_sales', ascending=False).reset_index()\n",
    "pnapie = pna.loc[0:4,]\n",
    "peupie = peu.loc[0:4,]\n",
    "pjppie = pjp.loc[0:4,]\n",
    "\n",
    "fig, axs = plt.subplots(1, 3, figsize=(19, 7))\n",
    "plt.suptitle(\"Топ 5 платформ по регионам\")\n",
    "plt.subplot(1, 3, 1)\n",
    "plt.pie(pnapie['na_sales'], labels=pnapie['platform'])\n",
    "plt.title('Северная Америка')\n",
    "\n",
    "plt.subplot(1, 3, 2)\n",
    "plt.pie(peupie['eu_sales'], labels=peupie['platform'])\n",
    "plt.title('Европа')\n",
    "\n",
    "plt.subplot(1, 3, 3)\n",
    "plt.pie(pjppie['jp_sales'], labels=pjppie['platform']);\n",
    "plt.title('Япония')\n"
   ]
  },
  {
   "cell_type": "markdown",
   "metadata": {},
   "source": [
    "- На графиках видно, что\n",
    "    - топ 5 платформ  в Северной Америке это: X360, PS4, XOne, PS3, 3DS.\n",
    "    - Топ 5 платформ  в Европе это: PS4, PS3, X360, XOne, 3DS.\n",
    "    - Топ 5 платформ  в Японии это: 3DS, PS3, PSV, PS4, WiiU .\n",
    "- Можем заметить, что Япония отличается предпочтениями по платформам."
   ]
  },
  {
   "cell_type": "markdown",
   "metadata": {},
   "source": [
    "### Самые популярные жанры."
   ]
  },
  {
   "cell_type": "code",
   "execution_count": 50,
   "metadata": {},
   "outputs": [
    {
     "data": {
      "text/plain": [
       "Text(0.5, 1.0, 'Япония')"
      ]
     },
     "execution_count": 50,
     "metadata": {},
     "output_type": "execute_result"
    },
    {
     "data": {
      "image/png": "[encoded data removed]",
      "text/plain": [
       "<Figure size 1368x504 with 3 Axes>"
      ]
     },
     "metadata": {},
     "output_type": "display_data"
    }
   ],
   "source": [
    "gna = df_actual.groupby(['genre']).agg({'na_sales':'sum'}).sort_values(by='na_sales', ascending=False).reset_index()\n",
    "geu = df_actual.groupby(['genre']).agg({'eu_sales':'sum'}).sort_values(by='eu_sales', ascending=False).reset_index()\n",
    "gjp = df_actual.groupby(['genre']).agg({'jp_sales':'sum'}).sort_values(by='jp_sales', ascending=False).reset_index()\n",
    "\n",
    "gnapie = gna.loc[0:4]\n",
    "geupie = geu.loc[0:4]\n",
    "gjppie = gjp.loc[0:4]\n",
    "\n",
    "fig, axs = plt.subplots(1, 3, figsize=(19, 7))\n",
    "plt.suptitle(\"Топ 5 жанров по регионам\")\n",
    "plt.subplot(1, 3, 1)\n",
    "plt.pie(gnapie['na_sales'], labels=gnapie['genre'], autopct='%1.1f%%')\n",
    "plt.title('Северная Америка')\n",
    "\n",
    "plt.subplot(1, 3, 2)\n",
    "plt.pie(geupie['eu_sales'], labels=geupie['genre'], autopct='%1.1f%%')\n",
    "plt.title('Европа')\n",
    "\n",
    "plt.subplot(1, 3, 3)\n",
    "plt.pie(gjppie['jp_sales'], labels=gjppie['genre'], autopct='%1.1f%%');\n",
    "plt.title('Япония')"
   ]
  },
  {
   "cell_type": "markdown",
   "metadata": {},
   "source": [
    "- На графиках видно, что\n",
    "    - топ 5 жанров  в Северной Америке это: Action, Sport, Shooter, Role-Playing, Misc.\n",
    "    - Топ 5 жанров  в Европе это: Action, Shooter, Sports, Role-Playing, Racing.\n",
    "    - Топ 5 жанров  в Японии это: Role-Playing, Action, Misc, Flightning, Shooter."
   ]
  },
  {
   "cell_type": "markdown",
   "metadata": {},
   "source": [
    "### Самые популярные рейтинги игр."
   ]
  },
  {
   "cell_type": "code",
   "execution_count": 51,
   "metadata": {},
   "outputs": [
    {
     "name": "stderr",
     "output_type": "stream",
     "text": [
      "/tmp/ipykernel_332/4263597968.py:2: SettingWithCopyWarning: \n",
      "A value is trying to be set on a copy of a slice from a DataFrame.\n",
      "Try using .loc[row_indexer,col_indexer] = value instead\n",
      "\n",
      "See the caveats in the documentation: https://pandas.pydata.org/pandas-docs/stable/user_guide/indexing.html#returning-a-view-versus-a-copy\n",
      "  df_actual['rating'] = df_actual['rating'].fillna(99)\n"
     ]
    },
    {
     "data": {
      "image/png": "[encoded data removed]",
      "text/plain": [
       "<Figure size 648x360 with 1 Axes>"
      ]
     },
     "metadata": {
      "needs_background": "light"
     },
     "output_type": "display_data"
    },
    {
     "data": {
      "image/png": "[encoded data removed]",
      "text/plain": [
       "<Figure size 648x360 with 1 Axes>"
      ]
     },
     "metadata": {
      "needs_background": "light"
     },
     "output_type": "display_data"
    },
    {
     "data": {
      "image/png": "[encoded data removed]",
      "text/plain": [
       "<Figure size 648x360 with 1 Axes>"
      ]
     },
     "metadata": {
      "needs_background": "light"
     },
     "output_type": "display_data"
    }
   ],
   "source": [
    "#Заполним пропуски в столбце рейтинг на значение 99\n",
    "df_actual['rating'] = df_actual['rating'].fillna(99)\n",
    "df_actual.groupby(['rating']).agg({'na_sales':'sum'}).sort_values(by='na_sales', ascending=False).plot(kind='bar', figsize=(9,5,), xlabel='Рейтинг', ylabel='Количество продаж в млн.', title='График Распределения продаж по рейтингу в Северной Америке');\n",
    "df_actual.groupby(['rating']).agg({'eu_sales':'sum'}).sort_values(by='eu_sales', ascending=False).plot(kind='bar', figsize=(9,5), xlabel='Рейтинг', ylabel='Количество продаж в млн.', title='График Распределения продаж по рейтингу в Европе');\n",
    "df_actual.groupby(['rating']).agg({'jp_sales':'sum'}).sort_values(by='jp_sales', ascending=False).plot(kind='bar', figsize=(9,5), xlabel='Рейтинг', ylabel='Количество продаж в млн.', title='График Распределения продаж по рейтингу в Японии');"
   ]
  },
  {
   "cell_type": "markdown",
   "metadata": {},
   "source": [
    "На графиках распределения продаж по рейтингу мы видим, что самые популярные рейтинги в NA и EU это M и Е , а в Японии доля продаж игр рейтинга М гораздо меньше чем в Европе и Северной Америке, зато игры без рейтинга пользуются наибольшей популярностью."
   ]
  },
  {
   "cell_type": "markdown",
   "metadata": {},
   "source": [
    "### Вывод: составив портреты пользователей по регионам, можно сказать, что топ 5 платформ в Северной Америке это: X360, PS4, XOne, PS3, 3DS.. Топ 5 платформ в Европе это: PS4, PS3, X360, XOne, 3DS. Топ 5 платформ в Японии это: 3DS, PS3, PSV, PS4, WiiU .Можем заметить, что Япония отличается предпочтениями по платформам. Топ 5 жанров в Северной Америке это: Action, Sport, Shooter, Role-Playing, Misc.Топ 5 жанров в Европе это: Action, Shooter, Sports, Role-Playing, Racing.Топ 5 жанров в Японии это: Role-Playing, Action, Misc, Flightning, Shooter. На графиках распределения продаж по рейтингу мы видим, что самые популярные рейтинги в NA и EU это M и Е , а в Японии доля продаж игр рейтинга М гораздо меньше чем в Европе и Северной Америке, зато игры без рейтинга пользуются наибольшей популярностью.\n",
    "\n"
   ]
  },
  {
   "cell_type": "markdown",
   "metadata": {},
   "source": [
    "## Проверим гипотезы."
   ]
  },
  {
   "cell_type": "markdown",
   "metadata": {},
   "source": [
    "- Нулевая гипотеза: средние пользовательские рейтинги платформ Xbox One и PC равны\n",
    "- Альтернативная гипотеза:  средние пользовательские рейтинги платформ Xbox One и PC не равны\n"
   ]
  },
  {
   "cell_type": "code",
   "execution_count": 52,
   "metadata": {},
   "outputs": [],
   "source": [
    "#Сделаем два датафрейма для платформ Xbox One и PC и уберем пропуски в столбце user_score\n",
    "xone1 = df_actual.query('platform == \"XOne\"')\n",
    "xone1 = xone1.dropna(subset=['user_score'])\n",
    "pc = df_actual.query('platform == \"PC\"')\n",
    "pc = pc.dropna(subset=['user_score'])"
   ]
  },
  {
   "cell_type": "code",
   "execution_count": 53,
   "metadata": {},
   "outputs": [
    {
     "name": "stdout",
     "output_type": "stream",
     "text": [
      "p-value: 0.14012658403611647\n",
      "Нет оснований отвергнуть нулевую гипотезу\n",
      "Cреднее значение оценки пользователей XOne 6.521428571428572\n",
      "Cреднее значение оценки пользователей PC 6.2696774193548395\n"
     ]
    }
   ],
   "source": [
    "alpha = 0.05 #задаем уровень статистической значимости\n",
    "\n",
    "# оценки пользователей для XOne\n",
    "first_group_total = xone1['user_score']\n",
    "\n",
    "# оценки пользователей для PC\n",
    "second_group_total = pc['user_score']\n",
    "\n",
    "# проводим ttest для двух выборок, в качестве альтернативной используем двустороннюю гипотезу\n",
    "results = st.ttest_ind(first_group_total, second_group_total)\n",
    "\n",
    "print(f'p-value: {results.pvalue}')\n",
    "\n",
    "# проверяем p-value\n",
    "if results.pvalue < alpha:\n",
    "    print('Отвергаем нулевую гипотезу')\n",
    "else:\n",
    "    print('Нет оснований отвергнуть нулевую гипотезу')\n",
    "print('Cреднее значение оценки пользователей XOne', xone1['user_score'].mean())\n",
    "print('Cреднее значение оценки пользователей PC', pc['user_score'].mean())"
   ]
  },
  {
   "cell_type": "markdown",
   "metadata": {},
   "source": [
    "Вывод: нулевую гипотезу о равенстве средних пользовательских рейтингах платформ XOne и PC не отвергаем"
   ]
  },
  {
   "cell_type": "markdown",
   "metadata": {},
   "source": [
    "Проверим следующие гипотезы\n",
    "- Нулевая гипотеза: Средние пользовательские рейтинги жанров Action  и Sports  равны.\n",
    "- Альтернативная гипоте: Средние пользовательские рейтинги жанров Action  и Sports не равны."
   ]
  },
  {
   "cell_type": "code",
   "execution_count": 54,
   "metadata": {},
   "outputs": [],
   "source": [
    "#Сделаем два датафрейма для жанров Action и Sports и уберем пропуски в столбце user_score\n",
    "action = df_actual.query('genre == \"Action\"')\n",
    "action = action.dropna(subset=['user_score'])\n",
    "sports = df_actual.query('genre == \"Sports\"')\n",
    "sports = sports.dropna(subset=['user_score'])"
   ]
  },
  {
   "cell_type": "code",
   "execution_count": 55,
   "metadata": {},
   "outputs": [
    {
     "name": "stdout",
     "output_type": "stream",
     "text": [
      "p-value: 1.0517832389140023e-27\n",
      "Отвергаем нулевую гипотезу\n",
      "Cреднее значение оценки пользователей для жанра Action 6.837532133676092\n",
      "Cреднее значение оценки пользователей для жанра Sports 5.238124999999999\n"
     ]
    }
   ],
   "source": [
    "alpha = 0.05 #задаем уровень статистической значимости\n",
    "\n",
    "# оценки пользователей для жанра Action\n",
    "first_group_total1 = action['user_score']\n",
    "\n",
    "# оценки пользователей для жанра Sports\n",
    "second_group_total2 = sports['user_score']\n",
    "\n",
    "# проводим ttest для двух выборок, в качестве альтернативной используем двустороннюю гипотезу\n",
    "results2 = st.ttest_ind(first_group_total1, second_group_total2)\n",
    "\n",
    "print(f'p-value: {results2.pvalue}')\n",
    "\n",
    "# проверяем p-value\n",
    "if results2.pvalue < alpha:\n",
    "    print('Отвергаем нулевую гипотезу')\n",
    "else:\n",
    "    print('Нет оснований отвергнуть нулевую гипотезу')\n",
    "print('Cреднее значение оценки пользователей для жанра Action', action['user_score'].mean())\n",
    "print('Cреднее значение оценки пользователей для жанра Sports', sports['user_score'].mean())"
   ]
  },
  {
   "cell_type": "markdown",
   "metadata": {},
   "source": [
    "Вывод: нулевая гипотеза о равенстве средних пользовательских рейтингов жанров Action и Sports отвергается. \n",
    "p-value: 1.0517832389140023e-27"
   ]
  },
  {
   "cell_type": "markdown",
   "metadata": {},
   "source": [
    "### Вывод: гипотеза о  равенстве средних пользовательских рейтингах платформ XOne и PC  не отвергается, pvalue = 0.140. Гипотеза о равенстве средних пользовательских рейтингов жанров Action и Sports  отвергается, pvalue = 1.0517832389140023e-27"
   ]
  },
  {
   "cell_type": "markdown",
   "metadata": {},
   "source": [
    "## Общий вывод \n",
    "### На первом шаге мы считали данные, ознакомились с содержанием данных, посмотрели у каких столбцов нужно поменять тип данных.\n",
    "### На втором этапе мы провели подготовку данных к анализу, а именно:привели названия столбцов к нижнему регистру, удалили строки, где не указанно название игры и жанр, привели столбец с датой к типу данный int, поменяли тип данных столбца оценки пользователей на float, проверили датафрейм на дупликаты и добавили столбец с сумарными продажами во всех регионах, изменили значения tbd на пропуски\n",
    "### На третем этапе мы провели ИА и узнали,  что с 1990 по 2006-7 количество выпущенных игр в год активно росло, а с 2007 по 2015 пошел резкий спад. \n",
    "### На графике продаж игр по платформам видно, что явный лидер PS2 с продажами более 1200 млн, далее идет X360, PS3, Wii, DS, PS\n",
    "###  Рассмотрели графики распределения продаж самых популярних платформ по годам и можем сказать, что платформа держит актуальность в среднем 5-6 лет, после чего появляется новая, а старая становится не актуальна.\n",
    "###  Проанализировав графики за актуальный период 2013-2016г. мы выделили несколько новых платформ: PS4, XOne, 3DS и WiiU. Можно сказать, что платформа PS4 явный лидер по продажам, появившаяся в 2013 году, которая будет набирает свою популярность и будет актуальна до 2018-19 года. Платформа XOne также появилась в 2013 году и набирает свою популярность. Платформы: 3DS и WiiU, с каждым годом теряют продажи и скоро станут не актуальны.\n",
    "### На графиках «ящик с усами» по глобальным продажам игр в разбивке по платформам, видим, что наивысшими медианными значениями обладнают платформы: X360, PS4, WiiU и XOne, а наименьшими платформы: PSV, PSP, 3DS, PC.\n",
    "###  мы построили диаграммы зависимости оценок  критиков и пользователей к продажам и рассчитали кореляцю этих величин для платформ PS3, PS4, X360, XOne и выяснили, что оценки пользователей не влияют на продажи, а оценки критиков влияют с кореляцией примерно 0.4\n",
    "### Из диаграамы распределения игр по жанрам видно, что самый популярные жанры это Action, Role-Playing, Adventure, а самые не популярные жанры: Puzzle, Strategy, Simulation, platform, Fighting, Racing. Из графика продаж по жанрам, видим что медианное значение продаж гороздо больше у шутеров.\n",
    "### На четвертом этапе,  составив портреты пользователей по регионам, можно сказать, что топ 5 платформ в Северной Америке это: X360, PS4, XOne, PS3, 3DS.. Топ 5 платформ в Европе это: PS4, PS3, X360, XOne, 3DS. Топ 5 платформ в Японии это: 3DS, PS3, PSV, PS4, WiiU .Можем заметить, что Япония отличается предпочтениями по платформам. Топ 5 жанров в Северной Америке это: Action, Sport, Shooter, Role-Playing, Misc.Топ 5 жанров в Европе это: Action, Shooter, Sports, Role-Playing, Racing.Топ 5 жанров в Японии это: Role-Playing, Action, Misc, Flightning, Shooter. На графиках распределения продаж по рейтингу мы видим, что самые популярные рейтинги в NA и EU это M и Е , а в Японии доля продаж игр рейтинга М гораздо меньше чем в Европе и Северной Америке, зато игры без рейтинга пользуются наибольшей популярностью.\n",
    "### На пятом этапе мы проверили гипотезы и выяснили, гипотеза о  равенстве средних пользовательских рейтингах платформ XOne и PC  не отвергается, pvalue = 0.140. Гипотеза о равенстве средних пользовательских рейтингов жанров Action и Sports  отвергается, pvalue = 1.0517832389140023e-27"
   ]
  },
  {
   "cell_type": "markdown",
   "metadata": {},
   "source": [
    "## Рекомендации отделу маркетинга сделать акцент на платформах PS4 и XOne."
   ]
  },
  {
   "cell_type": "code",
   "execution_count": null,
   "metadata": {},
   "outputs": [],
   "source": []
  }
 ],
 "metadata": {
  "ExecuteTimeLog": [
   {
    "duration": 1275,
    "start_time": "2023-09-04T12:55:45.870Z"
   },
   {
    "duration": 127,
    "start_time": "2023-09-04T12:56:34.052Z"
   },
   {
    "duration": 114,
    "start_time": "2023-09-04T12:57:28.399Z"
   },
   {
    "duration": 14,
    "start_time": "2023-09-04T13:04:41.003Z"
   },
   {
    "duration": 16,
    "start_time": "2023-09-04T13:09:46.295Z"
   },
   {
    "duration": 6,
    "start_time": "2023-09-04T13:20:17.312Z"
   },
   {
    "duration": 12,
    "start_time": "2023-09-04T13:20:28.881Z"
   },
   {
    "duration": 18,
    "start_time": "2023-09-04T13:21:05.050Z"
   },
   {
    "duration": 8,
    "start_time": "2023-09-04T13:21:30.523Z"
   },
   {
    "duration": 4,
    "start_time": "2023-09-04T13:21:40.971Z"
   },
   {
    "duration": 14,
    "start_time": "2023-09-04T13:21:42.891Z"
   },
   {
    "duration": 6,
    "start_time": "2023-09-04T13:22:32.300Z"
   },
   {
    "duration": 4,
    "start_time": "2023-09-04T13:25:26.211Z"
   },
   {
    "duration": 61,
    "start_time": "2023-09-04T13:25:27.236Z"
   },
   {
    "duration": 13,
    "start_time": "2023-09-04T13:25:29.179Z"
   },
   {
    "duration": 15,
    "start_time": "2023-09-04T13:25:32.155Z"
   },
   {
    "duration": 743,
    "start_time": "2023-09-04T13:26:01.325Z"
   },
   {
    "duration": 11,
    "start_time": "2023-09-04T13:26:27.349Z"
   },
   {
    "duration": 4,
    "start_time": "2023-09-04T13:29:43.221Z"
   },
   {
    "duration": 13,
    "start_time": "2023-09-04T13:29:46.652Z"
   },
   {
    "duration": 3,
    "start_time": "2023-09-04T13:30:17.199Z"
   },
   {
    "duration": 61,
    "start_time": "2023-09-04T13:30:17.967Z"
   },
   {
    "duration": 16,
    "start_time": "2023-09-04T13:30:20.022Z"
   },
   {
    "duration": 3,
    "start_time": "2023-09-04T13:35:33.019Z"
   },
   {
    "duration": 62,
    "start_time": "2023-09-04T13:35:33.307Z"
   },
   {
    "duration": 14,
    "start_time": "2023-09-04T13:35:33.563Z"
   },
   {
    "duration": 14,
    "start_time": "2023-09-04T13:35:36.619Z"
   },
   {
    "duration": 737,
    "start_time": "2023-09-04T13:35:52.372Z"
   },
   {
    "duration": 4,
    "start_time": "2023-09-04T13:38:44.330Z"
   },
   {
    "duration": 13,
    "start_time": "2023-09-04T13:38:50.715Z"
   },
   {
    "duration": 5,
    "start_time": "2023-09-04T13:39:25.162Z"
   },
   {
    "duration": 19,
    "start_time": "2023-09-04T13:39:27.237Z"
   },
   {
    "duration": 6,
    "start_time": "2023-09-04T13:39:36.181Z"
   },
   {
    "duration": 4,
    "start_time": "2023-09-04T13:39:53.286Z"
   },
   {
    "duration": 61,
    "start_time": "2023-09-04T13:39:54.926Z"
   },
   {
    "duration": 17,
    "start_time": "2023-09-04T13:39:56.458Z"
   },
   {
    "duration": 16,
    "start_time": "2023-09-04T13:40:01.258Z"
   },
   {
    "duration": 5,
    "start_time": "2023-09-04T13:40:43.895Z"
   },
   {
    "duration": 16,
    "start_time": "2023-09-04T13:40:46.424Z"
   },
   {
    "duration": 3,
    "start_time": "2023-09-04T13:47:15.735Z"
   },
   {
    "duration": 63,
    "start_time": "2023-09-04T13:47:16.151Z"
   },
   {
    "duration": 13,
    "start_time": "2023-09-04T13:47:16.897Z"
   },
   {
    "duration": 16,
    "start_time": "2023-09-04T13:47:20.984Z"
   },
   {
    "duration": 6,
    "start_time": "2023-09-04T13:47:31.344Z"
   },
   {
    "duration": 12,
    "start_time": "2023-09-04T13:47:32.641Z"
   },
   {
    "duration": 13,
    "start_time": "2023-09-04T13:48:49.211Z"
   },
   {
    "duration": 12,
    "start_time": "2023-09-04T13:48:50.916Z"
   },
   {
    "duration": 6,
    "start_time": "2023-09-04T13:48:58.835Z"
   },
   {
    "duration": 5,
    "start_time": "2023-09-04T13:49:16.676Z"
   },
   {
    "duration": 2,
    "start_time": "2023-09-04T13:51:14.539Z"
   },
   {
    "duration": 61,
    "start_time": "2023-09-04T13:51:14.883Z"
   },
   {
    "duration": 14,
    "start_time": "2023-09-04T13:51:16.354Z"
   },
   {
    "duration": 13,
    "start_time": "2023-09-04T13:51:20.563Z"
   },
   {
    "duration": 5,
    "start_time": "2023-09-04T13:51:47.475Z"
   },
   {
    "duration": 12,
    "start_time": "2023-09-04T13:51:53.708Z"
   },
   {
    "duration": 5,
    "start_time": "2023-09-04T13:52:18.469Z"
   },
   {
    "duration": 8,
    "start_time": "2023-09-04T13:57:34.132Z"
   },
   {
    "duration": 287,
    "start_time": "2023-09-04T13:58:13.118Z"
   },
   {
    "duration": 6,
    "start_time": "2023-09-04T13:58:49.031Z"
   },
   {
    "duration": 5,
    "start_time": "2023-09-04T14:06:19.620Z"
   },
   {
    "duration": 5,
    "start_time": "2023-09-04T14:06:24.172Z"
   },
   {
    "duration": 13,
    "start_time": "2023-09-04T14:06:38.692Z"
   },
   {
    "duration": 15,
    "start_time": "2023-09-04T14:09:30.595Z"
   },
   {
    "duration": 959,
    "start_time": "2023-09-04T14:10:24.183Z"
   },
   {
    "duration": 7,
    "start_time": "2023-09-04T14:10:47.991Z"
   },
   {
    "duration": 23,
    "start_time": "2023-09-04T14:12:08.411Z"
   },
   {
    "duration": 7,
    "start_time": "2023-09-04T14:22:20.101Z"
   },
   {
    "duration": 24,
    "start_time": "2023-09-04T14:22:36.701Z"
   },
   {
    "duration": 8,
    "start_time": "2023-09-04T14:27:54.820Z"
   },
   {
    "duration": 5,
    "start_time": "2023-09-04T14:27:56.585Z"
   },
   {
    "duration": 64,
    "start_time": "2023-09-05T03:54:27.111Z"
   },
   {
    "duration": 1591,
    "start_time": "2023-09-05T03:54:47.941Z"
   },
   {
    "duration": 190,
    "start_time": "2023-09-05T03:54:49.543Z"
   },
   {
    "duration": 21,
    "start_time": "2023-09-05T03:54:49.735Z"
   },
   {
    "duration": 18,
    "start_time": "2023-09-05T03:54:49.757Z"
   },
   {
    "duration": 7,
    "start_time": "2023-09-05T03:54:49.778Z"
   },
   {
    "duration": 14,
    "start_time": "2023-09-05T03:54:49.787Z"
   },
   {
    "duration": 10,
    "start_time": "2023-09-05T03:54:49.810Z"
   },
   {
    "duration": 24,
    "start_time": "2023-09-05T03:54:49.827Z"
   },
   {
    "duration": 16,
    "start_time": "2023-09-05T03:56:54.481Z"
   },
   {
    "duration": 18,
    "start_time": "2023-09-05T03:57:02.196Z"
   },
   {
    "duration": 6,
    "start_time": "2023-09-05T04:01:45.972Z"
   },
   {
    "duration": 18,
    "start_time": "2023-09-05T04:02:07.678Z"
   },
   {
    "duration": 260,
    "start_time": "2023-09-05T04:18:08.416Z"
   },
   {
    "duration": 11,
    "start_time": "2023-09-05T04:21:40.496Z"
   },
   {
    "duration": 370,
    "start_time": "2023-09-05T04:22:12.778Z"
   },
   {
    "duration": 504,
    "start_time": "2023-09-05T04:22:42.611Z"
   },
   {
    "duration": 210,
    "start_time": "2023-09-05T04:23:04.572Z"
   },
   {
    "duration": 241,
    "start_time": "2023-09-05T04:23:36.029Z"
   },
   {
    "duration": 302,
    "start_time": "2023-09-05T04:24:32.479Z"
   },
   {
    "duration": 289,
    "start_time": "2023-09-05T04:26:08.459Z"
   },
   {
    "duration": 301,
    "start_time": "2023-09-05T04:26:27.318Z"
   },
   {
    "duration": 294,
    "start_time": "2023-09-05T04:27:14.606Z"
   },
   {
    "duration": 526,
    "start_time": "2023-09-05T04:28:18.649Z"
   },
   {
    "duration": 158,
    "start_time": "2023-09-05T04:37:38.771Z"
   },
   {
    "duration": 396,
    "start_time": "2023-09-05T04:38:02.347Z"
   },
   {
    "duration": 324,
    "start_time": "2023-09-05T04:38:50.566Z"
   },
   {
    "duration": 21,
    "start_time": "2023-09-05T04:39:30.207Z"
   },
   {
    "duration": 321,
    "start_time": "2023-09-05T04:42:28.435Z"
   },
   {
    "duration": 321,
    "start_time": "2023-09-05T04:42:34.679Z"
   },
   {
    "duration": 341,
    "start_time": "2023-09-05T04:46:50.092Z"
   },
   {
    "duration": 437,
    "start_time": "2023-09-05T04:48:19.462Z"
   },
   {
    "duration": 364,
    "start_time": "2023-09-05T04:53:55.981Z"
   },
   {
    "duration": 322,
    "start_time": "2023-09-05T04:58:21.329Z"
   },
   {
    "duration": 246,
    "start_time": "2023-09-05T05:06:31.738Z"
   },
   {
    "duration": 157,
    "start_time": "2023-09-05T05:19:12.437Z"
   },
   {
    "duration": 63,
    "start_time": "2023-09-05T05:20:27.630Z"
   },
   {
    "duration": 15,
    "start_time": "2023-09-05T05:21:08.463Z"
   },
   {
    "duration": 378,
    "start_time": "2023-09-05T05:23:37.879Z"
   },
   {
    "duration": 39176,
    "start_time": "2023-09-05T05:23:59.018Z"
   },
   {
    "duration": 39869,
    "start_time": "2023-09-05T05:25:26.626Z"
   },
   {
    "duration": 30791,
    "start_time": "2023-09-05T05:29:53.005Z"
   },
   {
    "duration": 180,
    "start_time": "2023-09-05T05:31:52.403Z"
   },
   {
    "duration": 257,
    "start_time": "2023-09-05T05:31:59.324Z"
   },
   {
    "duration": 273,
    "start_time": "2023-09-05T05:33:39.976Z"
   },
   {
    "duration": 378,
    "start_time": "2023-09-05T05:34:00.591Z"
   },
   {
    "duration": 284,
    "start_time": "2023-09-05T05:37:07.863Z"
   },
   {
    "duration": 305,
    "start_time": "2023-09-05T05:38:00.892Z"
   },
   {
    "duration": 325,
    "start_time": "2023-09-05T05:43:42.824Z"
   },
   {
    "duration": 285,
    "start_time": "2023-09-05T05:45:34.542Z"
   },
   {
    "duration": 264,
    "start_time": "2023-09-05T05:46:19.061Z"
   },
   {
    "duration": 373,
    "start_time": "2023-09-05T05:51:29.594Z"
   },
   {
    "duration": 266,
    "start_time": "2023-09-05T05:58:01.849Z"
   },
   {
    "duration": 341,
    "start_time": "2023-09-05T06:03:02.007Z"
   },
   {
    "duration": 8,
    "start_time": "2023-09-05T06:33:14.771Z"
   },
   {
    "duration": 16,
    "start_time": "2023-09-05T06:34:14.036Z"
   },
   {
    "duration": 24,
    "start_time": "2023-09-05T06:35:49.346Z"
   },
   {
    "duration": 146,
    "start_time": "2023-09-05T06:39:29.546Z"
   },
   {
    "duration": 148,
    "start_time": "2023-09-05T06:41:55.744Z"
   },
   {
    "duration": 179,
    "start_time": "2023-09-05T06:44:08.706Z"
   },
   {
    "duration": 218,
    "start_time": "2023-09-05T06:45:20.766Z"
   },
   {
    "duration": 204,
    "start_time": "2023-09-05T06:45:31.957Z"
   },
   {
    "duration": 215,
    "start_time": "2023-09-05T06:46:44.138Z"
   },
   {
    "duration": 189,
    "start_time": "2023-09-05T07:00:51.951Z"
   },
   {
    "duration": 270,
    "start_time": "2023-09-05T07:06:32.312Z"
   },
   {
    "duration": 212,
    "start_time": "2023-09-05T07:09:13.389Z"
   },
   {
    "duration": 18,
    "start_time": "2023-09-05T07:10:44.367Z"
   },
   {
    "duration": 200,
    "start_time": "2023-09-05T07:11:58.225Z"
   },
   {
    "duration": 6,
    "start_time": "2023-09-05T07:14:09.609Z"
   },
   {
    "duration": 178,
    "start_time": "2023-09-05T07:15:03.252Z"
   },
   {
    "duration": 185,
    "start_time": "2023-09-05T07:26:09.624Z"
   },
   {
    "duration": 171,
    "start_time": "2023-09-05T07:26:35.488Z"
   },
   {
    "duration": 1493,
    "start_time": "2023-09-05T07:42:42.546Z"
   },
   {
    "duration": 12,
    "start_time": "2023-09-05T07:42:52.371Z"
   },
   {
    "duration": 223,
    "start_time": "2023-09-05T07:43:04.340Z"
   },
   {
    "duration": 10,
    "start_time": "2023-09-05T07:49:59.965Z"
   },
   {
    "duration": 9,
    "start_time": "2023-09-05T07:50:28.374Z"
   },
   {
    "duration": 9,
    "start_time": "2023-09-05T07:55:31.500Z"
   },
   {
    "duration": 240,
    "start_time": "2023-09-05T07:56:13.470Z"
   },
   {
    "duration": 9,
    "start_time": "2023-09-05T07:56:36.968Z"
   },
   {
    "duration": 3,
    "start_time": "2023-09-05T07:56:59.825Z"
   },
   {
    "duration": 11,
    "start_time": "2023-09-05T07:57:12.841Z"
   },
   {
    "duration": 285,
    "start_time": "2023-09-05T07:59:22.279Z"
   },
   {
    "duration": 273,
    "start_time": "2023-09-05T07:59:29.847Z"
   },
   {
    "duration": 252,
    "start_time": "2023-09-05T07:59:55.468Z"
   },
   {
    "duration": 4,
    "start_time": "2023-09-05T08:02:13.967Z"
   },
   {
    "duration": 276,
    "start_time": "2023-09-05T08:02:53.841Z"
   },
   {
    "duration": 1155,
    "start_time": "2023-09-05T08:03:13.618Z"
   },
   {
    "duration": 9,
    "start_time": "2023-09-05T08:05:14.319Z"
   },
   {
    "duration": 275,
    "start_time": "2023-09-05T08:06:54.364Z"
   },
   {
    "duration": 10,
    "start_time": "2023-09-05T08:24:24.547Z"
   },
   {
    "duration": 8,
    "start_time": "2023-09-05T08:24:44.044Z"
   },
   {
    "duration": 6,
    "start_time": "2023-09-05T08:25:06.316Z"
   },
   {
    "duration": 21,
    "start_time": "2023-09-05T08:25:15.622Z"
   },
   {
    "duration": 4,
    "start_time": "2023-09-05T08:25:34.983Z"
   },
   {
    "duration": 64,
    "start_time": "2023-09-05T08:25:36.294Z"
   },
   {
    "duration": 18,
    "start_time": "2023-09-05T08:25:37.990Z"
   },
   {
    "duration": 26,
    "start_time": "2023-09-05T08:25:45.335Z"
   },
   {
    "duration": 5,
    "start_time": "2023-09-05T08:25:49.439Z"
   },
   {
    "duration": 9,
    "start_time": "2023-09-05T08:26:03.336Z"
   },
   {
    "duration": 6,
    "start_time": "2023-09-05T08:26:14.807Z"
   },
   {
    "duration": 19,
    "start_time": "2023-09-05T08:26:19.346Z"
   },
   {
    "duration": 1220,
    "start_time": "2023-09-05T08:27:56.585Z"
   },
   {
    "duration": 73,
    "start_time": "2023-09-05T08:27:57.807Z"
   },
   {
    "duration": 22,
    "start_time": "2023-09-05T08:27:57.882Z"
   },
   {
    "duration": 18,
    "start_time": "2023-09-05T08:27:57.906Z"
   },
   {
    "duration": 9,
    "start_time": "2023-09-05T08:27:57.926Z"
   },
   {
    "duration": 10,
    "start_time": "2023-09-05T08:27:57.938Z"
   },
   {
    "duration": 6,
    "start_time": "2023-09-05T08:27:57.950Z"
   },
   {
    "duration": 22,
    "start_time": "2023-09-05T08:27:57.958Z"
   },
   {
    "duration": 22,
    "start_time": "2023-09-05T08:27:58.008Z"
   },
   {
    "duration": 21,
    "start_time": "2023-09-05T08:27:58.033Z"
   },
   {
    "duration": 3,
    "start_time": "2023-09-05T08:27:58.056Z"
   },
   {
    "duration": 15,
    "start_time": "2023-09-05T08:27:58.061Z"
   },
   {
    "duration": 299,
    "start_time": "2023-09-05T08:27:58.079Z"
   },
   {
    "duration": 370,
    "start_time": "2023-09-05T08:27:58.381Z"
   },
   {
    "duration": 284,
    "start_time": "2023-09-05T08:27:58.754Z"
   },
   {
    "duration": 310,
    "start_time": "2023-09-05T08:27:59.040Z"
   },
   {
    "duration": 261,
    "start_time": "2023-09-05T08:27:59.352Z"
   },
   {
    "duration": 266,
    "start_time": "2023-09-05T08:27:59.615Z"
   },
   {
    "duration": 266,
    "start_time": "2023-09-05T08:27:59.883Z"
   },
   {
    "duration": 358,
    "start_time": "2023-09-05T08:28:00.151Z"
   },
   {
    "duration": 12,
    "start_time": "2023-09-05T08:28:00.512Z"
   },
   {
    "duration": 57,
    "start_time": "2023-09-05T08:28:00.526Z"
   },
   {
    "duration": 237,
    "start_time": "2023-09-05T08:28:00.586Z"
   },
   {
    "duration": 200,
    "start_time": "2023-09-05T08:28:00.825Z"
   },
   {
    "duration": 213,
    "start_time": "2023-09-05T08:28:01.027Z"
   },
   {
    "duration": 200,
    "start_time": "2023-09-05T08:28:01.242Z"
   },
   {
    "duration": 238,
    "start_time": "2023-09-05T08:28:01.445Z"
   },
   {
    "duration": 297,
    "start_time": "2023-09-05T08:28:01.687Z"
   },
   {
    "duration": 137,
    "start_time": "2023-09-05T09:11:21.030Z"
   },
   {
    "duration": 133,
    "start_time": "2023-09-05T09:11:29.603Z"
   },
   {
    "duration": 125,
    "start_time": "2023-09-05T09:12:24.098Z"
   },
   {
    "duration": 207,
    "start_time": "2023-09-05T09:14:29.219Z"
   },
   {
    "duration": 123,
    "start_time": "2023-09-05T09:14:56.941Z"
   },
   {
    "duration": 124,
    "start_time": "2023-09-05T09:15:26.213Z"
   },
   {
    "duration": 139,
    "start_time": "2023-09-05T09:16:56.217Z"
   },
   {
    "duration": 113,
    "start_time": "2023-09-05T09:21:44.864Z"
   },
   {
    "duration": 7,
    "start_time": "2023-09-05T09:24:48.872Z"
   },
   {
    "duration": 13,
    "start_time": "2023-09-05T09:26:41.987Z"
   },
   {
    "duration": 134,
    "start_time": "2023-09-05T09:28:41.513Z"
   },
   {
    "duration": 171,
    "start_time": "2023-09-05T09:29:15.298Z"
   },
   {
    "duration": 139,
    "start_time": "2023-09-05T09:32:17.810Z"
   },
   {
    "duration": 154,
    "start_time": "2023-09-05T09:32:32.171Z"
   },
   {
    "duration": 146,
    "start_time": "2023-09-05T09:35:40.618Z"
   },
   {
    "duration": 228,
    "start_time": "2023-09-05T09:35:56.284Z"
   },
   {
    "duration": 176,
    "start_time": "2023-09-05T09:37:21.543Z"
   },
   {
    "duration": 8,
    "start_time": "2023-09-05T09:42:26.973Z"
   },
   {
    "duration": 14,
    "start_time": "2023-09-05T09:42:59.702Z"
   },
   {
    "duration": 171,
    "start_time": "2023-09-05T09:44:24.993Z"
   },
   {
    "duration": 165,
    "start_time": "2023-09-05T09:45:47.777Z"
   },
   {
    "duration": 241,
    "start_time": "2023-09-05T09:50:16.052Z"
   },
   {
    "duration": 156,
    "start_time": "2023-09-05T09:50:24.104Z"
   },
   {
    "duration": 7,
    "start_time": "2023-09-05T09:52:24.870Z"
   },
   {
    "duration": 14,
    "start_time": "2023-09-05T09:52:48.190Z"
   },
   {
    "duration": 207,
    "start_time": "2023-09-05T09:54:29.988Z"
   },
   {
    "duration": 179,
    "start_time": "2023-09-05T09:54:43.958Z"
   },
   {
    "duration": 184,
    "start_time": "2023-09-05T09:55:15.560Z"
   },
   {
    "duration": 135,
    "start_time": "2023-09-05T09:56:48.337Z"
   },
   {
    "duration": 112,
    "start_time": "2023-09-05T09:57:26.411Z"
   },
   {
    "duration": 8,
    "start_time": "2023-09-05T09:59:41.313Z"
   },
   {
    "duration": 13,
    "start_time": "2023-09-05T10:00:41.314Z"
   },
   {
    "duration": 1145,
    "start_time": "2023-09-05T10:01:30.725Z"
   },
   {
    "duration": 6,
    "start_time": "2023-09-05T10:01:42.486Z"
   },
   {
    "duration": 150,
    "start_time": "2023-09-05T10:03:47.619Z"
   },
   {
    "duration": 173,
    "start_time": "2023-09-05T10:03:48.795Z"
   },
   {
    "duration": 16,
    "start_time": "2023-09-05T10:39:28.387Z"
   },
   {
    "duration": 5,
    "start_time": "2023-09-05T10:40:13.207Z"
   },
   {
    "duration": 9,
    "start_time": "2023-09-05T10:44:35.513Z"
   },
   {
    "duration": 20,
    "start_time": "2023-09-05T10:45:01.463Z"
   },
   {
    "duration": 7,
    "start_time": "2023-09-05T10:46:59.133Z"
   },
   {
    "duration": 130,
    "start_time": "2023-09-05T10:50:52.049Z"
   },
   {
    "duration": 141,
    "start_time": "2023-09-05T10:51:43.258Z"
   },
   {
    "duration": 149,
    "start_time": "2023-09-05T10:52:03.834Z"
   },
   {
    "duration": 222,
    "start_time": "2023-09-05T10:58:24.128Z"
   },
   {
    "duration": 314,
    "start_time": "2023-09-05T10:58:30.838Z"
   },
   {
    "duration": 227,
    "start_time": "2023-09-05T10:59:24.559Z"
   },
   {
    "duration": 226,
    "start_time": "2023-09-05T11:00:32.031Z"
   },
   {
    "duration": 106,
    "start_time": "2023-09-05T11:42:17.526Z"
   },
   {
    "duration": 165,
    "start_time": "2023-09-05T11:48:24.616Z"
   },
   {
    "duration": 219053,
    "start_time": "2023-09-05T11:48:43.741Z"
   },
   {
    "duration": 12,
    "start_time": "2023-09-05T11:52:39.774Z"
   },
   {
    "duration": 16,
    "start_time": "2023-09-05T11:52:48.401Z"
   },
   {
    "duration": 292,
    "start_time": "2023-09-05T11:54:09.627Z"
   },
   {
    "duration": 344,
    "start_time": "2023-09-05T11:54:49.158Z"
   },
   {
    "duration": 689,
    "start_time": "2023-09-05T11:55:34.952Z"
   },
   {
    "duration": 402,
    "start_time": "2023-09-05T11:56:25.039Z"
   },
   {
    "duration": 657,
    "start_time": "2023-09-05T11:56:54.626Z"
   },
   {
    "duration": 951,
    "start_time": "2023-09-05T11:57:49.105Z"
   },
   {
    "duration": 16,
    "start_time": "2023-09-05T11:58:04.166Z"
   },
   {
    "duration": 15,
    "start_time": "2023-09-05T11:58:30.733Z"
   },
   {
    "duration": 95,
    "start_time": "2023-09-05T12:00:45.051Z"
   },
   {
    "duration": 304,
    "start_time": "2023-09-05T12:01:46.529Z"
   },
   {
    "duration": 980,
    "start_time": "2023-09-05T12:03:11.747Z"
   },
   {
    "duration": 69,
    "start_time": "2023-09-05T12:04:24.868Z"
   },
   {
    "duration": 959,
    "start_time": "2023-09-05T12:04:47.702Z"
   },
   {
    "duration": 84,
    "start_time": "2023-09-05T12:06:55.946Z"
   },
   {
    "duration": 1101,
    "start_time": "2023-09-05T12:07:12.631Z"
   },
   {
    "duration": 616,
    "start_time": "2023-09-05T12:18:00.409Z"
   },
   {
    "duration": 948,
    "start_time": "2023-09-05T12:18:26.361Z"
   },
   {
    "duration": 873,
    "start_time": "2023-09-05T12:18:51.314Z"
   },
   {
    "duration": 621,
    "start_time": "2023-09-05T12:19:18.851Z"
   },
   {
    "duration": 6,
    "start_time": "2023-09-05T12:23:41.462Z"
   },
   {
    "duration": 508,
    "start_time": "2023-09-05T12:24:59.962Z"
   },
   {
    "duration": 9,
    "start_time": "2023-09-05T13:39:11.940Z"
   },
   {
    "duration": 10,
    "start_time": "2023-09-05T13:45:32.887Z"
   },
   {
    "duration": 9,
    "start_time": "2023-09-05T13:45:39.238Z"
   },
   {
    "duration": 9,
    "start_time": "2023-09-05T13:45:41.740Z"
   },
   {
    "duration": 3,
    "start_time": "2023-09-05T13:48:32.832Z"
   },
   {
    "duration": 11,
    "start_time": "2023-09-05T13:48:40.144Z"
   },
   {
    "duration": 33,
    "start_time": "2023-09-05T13:49:51.647Z"
   },
   {
    "duration": 34,
    "start_time": "2023-09-05T13:53:00.183Z"
   },
   {
    "duration": 11,
    "start_time": "2023-09-05T13:53:20.206Z"
   },
   {
    "duration": 37,
    "start_time": "2023-09-05T14:05:47.224Z"
   },
   {
    "duration": 37,
    "start_time": "2023-09-05T14:07:06.335Z"
   },
   {
    "duration": 37,
    "start_time": "2023-09-05T14:07:32.831Z"
   },
   {
    "duration": 27,
    "start_time": "2023-09-05T14:07:56.006Z"
   },
   {
    "duration": 21,
    "start_time": "2023-09-05T14:08:35.085Z"
   },
   {
    "duration": 20,
    "start_time": "2023-09-05T14:09:38.146Z"
   },
   {
    "duration": 23,
    "start_time": "2023-09-05T14:09:47.929Z"
   },
   {
    "duration": 20,
    "start_time": "2023-09-05T14:10:12.940Z"
   },
   {
    "duration": 9,
    "start_time": "2023-09-05T14:10:21.866Z"
   },
   {
    "duration": 18,
    "start_time": "2023-09-05T14:16:48.062Z"
   },
   {
    "duration": 14,
    "start_time": "2023-09-05T14:19:10.238Z"
   },
   {
    "duration": 1586,
    "start_time": "2023-09-05T14:26:21.862Z"
   },
   {
    "duration": 107,
    "start_time": "2023-09-05T14:26:23.450Z"
   },
   {
    "duration": 22,
    "start_time": "2023-09-05T14:26:23.559Z"
   },
   {
    "duration": 20,
    "start_time": "2023-09-05T14:26:23.584Z"
   },
   {
    "duration": 60,
    "start_time": "2023-09-05T14:26:23.607Z"
   },
   {
    "duration": 18,
    "start_time": "2023-09-05T14:26:23.669Z"
   },
   {
    "duration": 27,
    "start_time": "2023-09-05T14:26:23.688Z"
   },
   {
    "duration": 40,
    "start_time": "2023-09-05T14:26:23.716Z"
   },
   {
    "duration": 66,
    "start_time": "2023-09-05T14:26:23.758Z"
   },
   {
    "duration": 51,
    "start_time": "2023-09-05T14:26:23.828Z"
   },
   {
    "duration": 40,
    "start_time": "2023-09-05T14:26:23.881Z"
   },
   {
    "duration": 24,
    "start_time": "2023-09-05T14:26:23.923Z"
   },
   {
    "duration": 57,
    "start_time": "2023-09-05T14:26:23.950Z"
   },
   {
    "duration": 333,
    "start_time": "2023-09-05T14:26:24.012Z"
   },
   {
    "duration": 401,
    "start_time": "2023-09-05T14:26:24.362Z"
   },
   {
    "duration": 304,
    "start_time": "2023-09-05T14:26:24.765Z"
   },
   {
    "duration": 319,
    "start_time": "2023-09-05T14:26:25.071Z"
   },
   {
    "duration": 299,
    "start_time": "2023-09-05T14:26:25.391Z"
   },
   {
    "duration": 294,
    "start_time": "2023-09-05T14:26:25.692Z"
   },
   {
    "duration": 285,
    "start_time": "2023-09-05T14:26:25.987Z"
   },
   {
    "duration": 388,
    "start_time": "2023-09-05T14:26:26.274Z"
   },
   {
    "duration": 9,
    "start_time": "2023-09-05T14:26:26.663Z"
   },
   {
    "duration": 19,
    "start_time": "2023-09-05T14:26:26.674Z"
   },
   {
    "duration": 242,
    "start_time": "2023-09-05T14:26:26.695Z"
   },
   {
    "duration": 212,
    "start_time": "2023-09-05T14:26:26.939Z"
   },
   {
    "duration": 236,
    "start_time": "2023-09-05T14:26:27.153Z"
   },
   {
    "duration": 227,
    "start_time": "2023-09-05T14:26:27.391Z"
   },
   {
    "duration": 229,
    "start_time": "2023-09-05T14:26:27.628Z"
   },
   {
    "duration": 317,
    "start_time": "2023-09-05T14:26:27.859Z"
   },
   {
    "duration": 188,
    "start_time": "2023-09-05T14:26:28.178Z"
   },
   {
    "duration": 14,
    "start_time": "2023-09-05T14:26:28.368Z"
   },
   {
    "duration": 186,
    "start_time": "2023-09-05T14:26:28.383Z"
   },
   {
    "duration": 14,
    "start_time": "2023-09-05T14:26:28.571Z"
   },
   {
    "duration": 247,
    "start_time": "2023-09-05T14:26:28.587Z"
   },
   {
    "duration": 285,
    "start_time": "2023-09-05T14:26:28.844Z"
   },
   {
    "duration": 19,
    "start_time": "2023-09-05T14:26:29.141Z"
   },
   {
    "duration": 186,
    "start_time": "2023-09-05T14:26:29.162Z"
   },
   {
    "duration": 179,
    "start_time": "2023-09-05T14:26:29.354Z"
   },
   {
    "duration": 15,
    "start_time": "2023-09-05T14:26:29.543Z"
   },
   {
    "duration": 199,
    "start_time": "2023-09-05T14:26:29.560Z"
   },
   {
    "duration": 250,
    "start_time": "2023-09-05T14:26:29.763Z"
   },
   {
    "duration": 14,
    "start_time": "2023-09-05T14:26:30.018Z"
   },
   {
    "duration": 191,
    "start_time": "2023-09-05T14:26:30.034Z"
   },
   {
    "duration": 263,
    "start_time": "2023-09-05T14:26:30.227Z"
   },
   {
    "duration": 1091,
    "start_time": "2023-09-05T14:26:30.492Z"
   },
   {
    "duration": 800,
    "start_time": "2023-09-05T14:26:31.585Z"
   },
   {
    "duration": 737,
    "start_time": "2023-09-05T14:26:32.387Z"
   },
   {
    "duration": 28,
    "start_time": "2023-09-05T14:26:33.130Z"
   },
   {
    "duration": 11,
    "start_time": "2023-09-05T14:26:33.172Z"
   },
   {
    "duration": 20,
    "start_time": "2023-09-05T14:26:33.186Z"
   },
   {
    "duration": 23,
    "start_time": "2023-09-05T14:26:33.208Z"
   },
   {
    "duration": 1245,
    "start_time": "2023-09-05T15:39:25.187Z"
   },
   {
    "duration": 83,
    "start_time": "2023-09-05T15:39:26.435Z"
   },
   {
    "duration": 16,
    "start_time": "2023-09-05T15:39:26.519Z"
   },
   {
    "duration": 33,
    "start_time": "2023-09-05T15:39:26.536Z"
   },
   {
    "duration": 26,
    "start_time": "2023-09-05T15:39:26.572Z"
   },
   {
    "duration": 10,
    "start_time": "2023-09-05T15:39:26.600Z"
   },
   {
    "duration": 8,
    "start_time": "2023-09-05T15:39:26.612Z"
   },
   {
    "duration": 10,
    "start_time": "2023-09-05T15:39:26.622Z"
   },
   {
    "duration": 46,
    "start_time": "2023-09-05T15:39:26.634Z"
   },
   {
    "duration": 21,
    "start_time": "2023-09-05T15:39:26.683Z"
   },
   {
    "duration": 24,
    "start_time": "2023-09-05T15:39:26.706Z"
   },
   {
    "duration": 3,
    "start_time": "2023-09-05T15:39:26.731Z"
   },
   {
    "duration": 35,
    "start_time": "2023-09-05T15:39:26.735Z"
   },
   {
    "duration": 287,
    "start_time": "2023-09-05T15:39:26.775Z"
   },
   {
    "duration": 374,
    "start_time": "2023-09-05T15:39:27.063Z"
   },
   {
    "duration": 285,
    "start_time": "2023-09-05T15:39:27.438Z"
   },
   {
    "duration": 276,
    "start_time": "2023-09-05T15:39:27.725Z"
   },
   {
    "duration": 256,
    "start_time": "2023-09-05T15:39:28.003Z"
   },
   {
    "duration": 277,
    "start_time": "2023-09-05T15:39:28.261Z"
   },
   {
    "duration": 286,
    "start_time": "2023-09-05T15:39:28.540Z"
   },
   {
    "duration": 390,
    "start_time": "2023-09-05T15:39:28.829Z"
   },
   {
    "duration": 9,
    "start_time": "2023-09-05T15:39:29.222Z"
   },
   {
    "duration": 36,
    "start_time": "2023-09-05T15:39:29.233Z"
   },
   {
    "duration": 230,
    "start_time": "2023-09-05T15:39:29.271Z"
   },
   {
    "duration": 230,
    "start_time": "2023-09-05T15:39:29.503Z"
   },
   {
    "duration": 228,
    "start_time": "2023-09-05T15:39:29.736Z"
   },
   {
    "duration": 225,
    "start_time": "2023-09-05T15:39:29.966Z"
   },
   {
    "duration": 211,
    "start_time": "2023-09-05T15:39:30.193Z"
   },
   {
    "duration": 329,
    "start_time": "2023-09-05T15:39:30.406Z"
   },
   {
    "duration": 176,
    "start_time": "2023-09-05T15:39:30.736Z"
   },
   {
    "duration": 23,
    "start_time": "2023-09-05T15:39:30.915Z"
   },
   {
    "duration": 276,
    "start_time": "2023-09-05T15:39:30.940Z"
   },
   {
    "duration": 15,
    "start_time": "2023-09-05T15:39:31.218Z"
   },
   {
    "duration": 289,
    "start_time": "2023-09-05T15:39:31.235Z"
   },
   {
    "duration": 288,
    "start_time": "2023-09-05T15:39:31.525Z"
   },
   {
    "duration": 12,
    "start_time": "2023-09-05T15:39:31.815Z"
   },
   {
    "duration": 214,
    "start_time": "2023-09-05T15:39:31.828Z"
   },
   {
    "duration": 163,
    "start_time": "2023-09-05T15:39:32.044Z"
   },
   {
    "duration": 14,
    "start_time": "2023-09-05T15:39:32.209Z"
   },
   {
    "duration": 213,
    "start_time": "2023-09-05T15:39:32.224Z"
   },
   {
    "duration": 207,
    "start_time": "2023-09-05T15:39:32.442Z"
   },
   {
    "duration": 10,
    "start_time": "2023-09-05T15:39:32.651Z"
   },
   {
    "duration": 190,
    "start_time": "2023-09-05T15:39:32.668Z"
   },
   {
    "duration": 281,
    "start_time": "2023-09-05T15:39:32.860Z"
   },
   {
    "duration": 1044,
    "start_time": "2023-09-05T15:39:33.143Z"
   },
   {
    "duration": 763,
    "start_time": "2023-09-05T15:39:34.189Z"
   },
   {
    "duration": 571,
    "start_time": "2023-09-05T15:39:34.954Z"
   },
   {
    "duration": 13,
    "start_time": "2023-09-05T15:39:35.526Z"
   },
   {
    "duration": 8,
    "start_time": "2023-09-05T15:39:35.541Z"
   },
   {
    "duration": 30,
    "start_time": "2023-09-05T15:39:35.551Z"
   },
   {
    "duration": 8,
    "start_time": "2023-09-05T15:39:35.583Z"
   },
   {
    "duration": 1244,
    "start_time": "2023-09-05T15:59:45.431Z"
   },
   {
    "duration": 74,
    "start_time": "2023-09-05T15:59:46.678Z"
   },
   {
    "duration": 17,
    "start_time": "2023-09-05T15:59:46.753Z"
   },
   {
    "duration": 32,
    "start_time": "2023-09-05T15:59:46.773Z"
   },
   {
    "duration": 32,
    "start_time": "2023-09-05T15:59:46.807Z"
   },
   {
    "duration": 13,
    "start_time": "2023-09-05T15:59:46.841Z"
   },
   {
    "duration": 10,
    "start_time": "2023-09-05T15:59:46.856Z"
   },
   {
    "duration": 14,
    "start_time": "2023-09-05T15:59:46.868Z"
   },
   {
    "duration": 21,
    "start_time": "2023-09-05T15:59:46.884Z"
   },
   {
    "duration": 21,
    "start_time": "2023-09-05T15:59:46.908Z"
   },
   {
    "duration": 18,
    "start_time": "2023-09-05T15:59:46.931Z"
   },
   {
    "duration": 3,
    "start_time": "2023-09-05T15:59:46.966Z"
   },
   {
    "duration": 31,
    "start_time": "2023-09-05T15:59:46.970Z"
   },
   {
    "duration": 260,
    "start_time": "2023-09-05T15:59:47.003Z"
   },
   {
    "duration": 340,
    "start_time": "2023-09-05T15:59:47.266Z"
   },
   {
    "duration": 262,
    "start_time": "2023-09-05T15:59:47.607Z"
   },
   {
    "duration": 260,
    "start_time": "2023-09-05T15:59:47.871Z"
   },
   {
    "duration": 241,
    "start_time": "2023-09-05T15:59:48.133Z"
   },
   {
    "duration": 254,
    "start_time": "2023-09-05T15:59:48.377Z"
   },
   {
    "duration": 251,
    "start_time": "2023-09-05T15:59:48.633Z"
   },
   {
    "duration": 337,
    "start_time": "2023-09-05T15:59:48.887Z"
   },
   {
    "duration": 9,
    "start_time": "2023-09-05T15:59:49.226Z"
   },
   {
    "duration": 40,
    "start_time": "2023-09-05T15:59:49.236Z"
   },
   {
    "duration": 199,
    "start_time": "2023-09-05T15:59:49.278Z"
   },
   {
    "duration": 188,
    "start_time": "2023-09-05T15:59:49.479Z"
   },
   {
    "duration": 192,
    "start_time": "2023-09-05T15:59:49.669Z"
   },
   {
    "duration": 183,
    "start_time": "2023-09-05T15:59:49.866Z"
   },
   {
    "duration": 203,
    "start_time": "2023-09-05T15:59:50.053Z"
   },
   {
    "duration": 312,
    "start_time": "2023-09-05T15:59:50.258Z"
   },
   {
    "duration": 142,
    "start_time": "2023-09-05T15:59:50.572Z"
   },
   {
    "duration": 13,
    "start_time": "2023-09-05T15:59:50.716Z"
   },
   {
    "duration": 155,
    "start_time": "2023-09-05T15:59:50.731Z"
   },
   {
    "duration": 14,
    "start_time": "2023-09-05T15:59:50.888Z"
   },
   {
    "duration": 175,
    "start_time": "2023-09-05T15:59:50.903Z"
   },
   {
    "duration": 253,
    "start_time": "2023-09-05T15:59:51.079Z"
   },
   {
    "duration": 13,
    "start_time": "2023-09-05T15:59:51.334Z"
   },
   {
    "duration": 166,
    "start_time": "2023-09-05T15:59:51.348Z"
   },
   {
    "duration": 154,
    "start_time": "2023-09-05T15:59:51.516Z"
   },
   {
    "duration": 14,
    "start_time": "2023-09-05T15:59:51.672Z"
   },
   {
    "duration": 172,
    "start_time": "2023-09-05T15:59:51.688Z"
   },
   {
    "duration": 164,
    "start_time": "2023-09-05T15:59:51.862Z"
   },
   {
    "duration": 8,
    "start_time": "2023-09-05T15:59:52.028Z"
   },
   {
    "duration": 169,
    "start_time": "2023-09-05T15:59:52.037Z"
   },
   {
    "duration": 237,
    "start_time": "2023-09-05T15:59:52.208Z"
   },
   {
    "duration": 960,
    "start_time": "2023-09-05T15:59:52.447Z"
   },
   {
    "duration": 790,
    "start_time": "2023-09-05T15:59:53.409Z"
   },
   {
    "duration": 518,
    "start_time": "2023-09-05T15:59:54.201Z"
   },
   {
    "duration": 15,
    "start_time": "2023-09-05T15:59:54.721Z"
   },
   {
    "duration": 11,
    "start_time": "2023-09-05T15:59:54.739Z"
   },
   {
    "duration": 14,
    "start_time": "2023-09-05T15:59:54.767Z"
   },
   {
    "duration": 59,
    "start_time": "2023-09-05T15:59:54.783Z"
   },
   {
    "duration": 1319,
    "start_time": "2023-09-06T13:47:56.404Z"
   },
   {
    "duration": 3,
    "start_time": "2023-09-06T13:48:51.204Z"
   },
   {
    "duration": 112,
    "start_time": "2023-09-06T13:48:51.564Z"
   },
   {
    "duration": 16,
    "start_time": "2023-09-06T13:48:51.867Z"
   },
   {
    "duration": 15,
    "start_time": "2023-09-06T13:48:55.067Z"
   },
   {
    "duration": 22,
    "start_time": "2023-09-06T13:48:57.915Z"
   },
   {
    "duration": 99,
    "start_time": "2023-09-06T13:49:06.684Z"
   },
   {
    "duration": 8,
    "start_time": "2023-09-06T13:50:47.642Z"
   },
   {
    "duration": 7,
    "start_time": "2023-09-06T13:52:19.309Z"
   },
   {
    "duration": 7,
    "start_time": "2023-09-06T13:52:50.646Z"
   },
   {
    "duration": 6,
    "start_time": "2023-09-06T13:52:55.751Z"
   },
   {
    "duration": 18,
    "start_time": "2023-09-06T13:53:05.286Z"
   },
   {
    "duration": 14,
    "start_time": "2023-09-06T13:56:19.799Z"
   },
   {
    "duration": 12,
    "start_time": "2023-09-06T14:00:31.065Z"
   },
   {
    "duration": 13,
    "start_time": "2023-09-06T14:05:27.790Z"
   },
   {
    "duration": 21,
    "start_time": "2023-09-06T14:05:40.438Z"
   },
   {
    "duration": 15,
    "start_time": "2023-09-06T14:07:57.646Z"
   },
   {
    "duration": 3,
    "start_time": "2023-09-06T14:08:08.348Z"
   },
   {
    "duration": 10,
    "start_time": "2023-09-06T14:08:10.157Z"
   },
   {
    "duration": 155,
    "start_time": "2023-09-06T14:09:07.488Z"
   },
   {
    "duration": 272,
    "start_time": "2023-09-06T14:10:47.676Z"
   },
   {
    "duration": 189,
    "start_time": "2023-09-06T14:11:02.852Z"
   },
   {
    "duration": 198,
    "start_time": "2023-09-06T14:12:36.673Z"
   },
   {
    "duration": 192,
    "start_time": "2023-09-06T14:13:10.322Z"
   },
   {
    "duration": 198,
    "start_time": "2023-09-06T14:13:51.268Z"
   },
   {
    "duration": 217,
    "start_time": "2023-09-06T14:14:16.317Z"
   },
   {
    "duration": 209,
    "start_time": "2023-09-06T14:14:18.512Z"
   },
   {
    "duration": 254,
    "start_time": "2023-09-06T14:18:22.928Z"
   },
   {
    "duration": 187,
    "start_time": "2023-09-06T14:18:49.432Z"
   },
   {
    "duration": 179,
    "start_time": "2023-09-06T14:19:17.762Z"
   },
   {
    "duration": 215,
    "start_time": "2023-09-06T14:19:32.435Z"
   },
   {
    "duration": 8,
    "start_time": "2023-09-06T14:21:54.601Z"
   },
   {
    "duration": 7,
    "start_time": "2023-09-06T14:22:04.809Z"
   },
   {
    "duration": 14,
    "start_time": "2023-09-06T14:22:07.385Z"
   },
   {
    "duration": 168,
    "start_time": "2023-09-06T14:22:55.579Z"
   },
   {
    "duration": 175,
    "start_time": "2023-09-06T14:23:18.973Z"
   },
   {
    "duration": 155,
    "start_time": "2023-09-06T14:24:09.120Z"
   },
   {
    "duration": 158,
    "start_time": "2023-09-06T14:24:22.567Z"
   },
   {
    "duration": 149,
    "start_time": "2023-09-06T14:24:39.544Z"
   },
   {
    "duration": 138,
    "start_time": "2023-09-06T14:24:55.257Z"
   },
   {
    "duration": 310,
    "start_time": "2023-09-06T14:26:35.564Z"
   },
   {
    "duration": 222,
    "start_time": "2023-09-06T14:27:46.232Z"
   },
   {
    "duration": 218,
    "start_time": "2023-09-06T14:28:20.081Z"
   },
   {
    "duration": 236,
    "start_time": "2023-09-06T14:28:28.962Z"
   },
   {
    "duration": 253,
    "start_time": "2023-09-06T14:28:44.482Z"
   },
   {
    "duration": 233,
    "start_time": "2023-09-06T14:28:50.115Z"
   },
   {
    "duration": 323,
    "start_time": "2023-09-06T14:29:28.661Z"
   },
   {
    "duration": 12,
    "start_time": "2023-09-06T14:32:23.589Z"
   },
   {
    "duration": 10,
    "start_time": "2023-09-06T14:33:19.312Z"
   },
   {
    "duration": 10,
    "start_time": "2023-09-06T14:33:40.329Z"
   },
   {
    "duration": 227,
    "start_time": "2023-09-06T14:34:55.356Z"
   },
   {
    "duration": 244,
    "start_time": "2023-09-06T14:37:17.082Z"
   },
   {
    "duration": 228,
    "start_time": "2023-09-06T14:38:14.284Z"
   },
   {
    "duration": 306,
    "start_time": "2023-09-06T14:38:45.494Z"
   },
   {
    "duration": 242,
    "start_time": "2023-09-06T14:38:57.174Z"
   },
   {
    "duration": 60,
    "start_time": "2023-09-06T14:39:28.297Z"
   },
   {
    "duration": 267,
    "start_time": "2023-09-06T14:39:43.081Z"
   },
   {
    "duration": 246,
    "start_time": "2023-09-06T14:40:17.371Z"
   },
   {
    "duration": 144,
    "start_time": "2023-09-06T14:44:54.913Z"
   },
   {
    "duration": 116,
    "start_time": "2023-09-06T14:45:06.495Z"
   },
   {
    "duration": 11,
    "start_time": "2023-09-06T14:45:50.849Z"
   },
   {
    "duration": 60,
    "start_time": "2023-09-06T14:48:08.999Z"
   },
   {
    "duration": 131,
    "start_time": "2023-09-06T14:48:21.103Z"
   },
   {
    "duration": 11,
    "start_time": "2023-09-06T14:49:11.442Z"
   },
   {
    "duration": 236,
    "start_time": "2023-09-06T14:51:04.552Z"
   },
   {
    "duration": 136,
    "start_time": "2023-09-06T14:51:16.344Z"
   },
   {
    "duration": 11,
    "start_time": "2023-09-06T14:52:24.854Z"
   },
   {
    "duration": 119,
    "start_time": "2023-09-06T14:53:26.165Z"
   },
   {
    "duration": 149,
    "start_time": "2023-09-06T14:53:45.965Z"
   },
   {
    "duration": 162,
    "start_time": "2023-09-06T14:54:42.690Z"
   },
   {
    "duration": 149,
    "start_time": "2023-09-06T14:54:47.865Z"
   },
   {
    "duration": 15,
    "start_time": "2023-09-06T14:55:33.004Z"
   },
   {
    "duration": 171,
    "start_time": "2023-09-06T14:55:35.635Z"
   },
   {
    "duration": 152,
    "start_time": "2023-09-06T14:55:40.371Z"
   },
   {
    "duration": 164,
    "start_time": "2023-09-06T14:55:42.802Z"
   },
   {
    "duration": 142,
    "start_time": "2023-09-06T14:55:44.795Z"
   },
   {
    "duration": 138,
    "start_time": "2023-09-06T14:55:46.059Z"
   },
   {
    "duration": 315,
    "start_time": "2023-09-06T14:55:51.404Z"
   },
   {
    "duration": 220,
    "start_time": "2023-09-06T14:55:52.796Z"
   },
   {
    "duration": 135,
    "start_time": "2023-09-06T14:56:10.276Z"
   },
   {
    "duration": 12,
    "start_time": "2023-09-06T14:56:20.764Z"
   },
   {
    "duration": 121,
    "start_time": "2023-09-06T14:56:24.113Z"
   },
   {
    "duration": 10,
    "start_time": "2023-09-06T14:56:26.181Z"
   },
   {
    "duration": 138,
    "start_time": "2023-09-06T14:56:30.821Z"
   },
   {
    "duration": 138,
    "start_time": "2023-09-06T14:56:35.789Z"
   },
   {
    "duration": 11,
    "start_time": "2023-09-06T14:56:56.782Z"
   },
   {
    "duration": 148,
    "start_time": "2023-09-06T14:57:16.447Z"
   },
   {
    "duration": 152,
    "start_time": "2023-09-06T14:57:55.977Z"
   },
   {
    "duration": 11,
    "start_time": "2023-09-06T14:59:00.668Z"
   },
   {
    "duration": 134,
    "start_time": "2023-09-06T14:59:49.030Z"
   },
   {
    "duration": 144,
    "start_time": "2023-09-06T15:00:25.640Z"
   },
   {
    "duration": 6,
    "start_time": "2023-09-06T15:02:12.212Z"
   },
   {
    "duration": 125,
    "start_time": "2023-09-06T15:02:26.637Z"
   },
   {
    "duration": 154,
    "start_time": "2023-09-06T15:02:58.942Z"
   },
   {
    "duration": 301,
    "start_time": "2023-09-06T15:03:49.090Z"
   },
   {
    "duration": 151,
    "start_time": "2023-09-06T15:08:21.189Z"
   },
   {
    "duration": 170,
    "start_time": "2023-09-06T15:10:38.716Z"
   },
   {
    "duration": 56,
    "start_time": "2023-09-06T15:11:52.785Z"
   },
   {
    "duration": 205,
    "start_time": "2023-09-06T15:12:02.535Z"
   },
   {
    "duration": 993,
    "start_time": "2023-09-06T15:19:06.246Z"
   },
   {
    "duration": 498,
    "start_time": "2023-09-06T15:21:03.121Z"
   },
   {
    "duration": 593,
    "start_time": "2023-09-06T15:23:43.390Z"
   },
   {
    "duration": 407,
    "start_time": "2023-09-06T15:24:18.752Z"
   },
   {
    "duration": 365,
    "start_time": "2023-09-06T15:38:04.660Z"
   },
   {
    "duration": 8,
    "start_time": "2023-09-06T15:40:22.195Z"
   },
   {
    "duration": 12,
    "start_time": "2023-09-06T15:40:28.075Z"
   },
   {
    "duration": 106,
    "start_time": "2023-09-06T15:41:53.391Z"
   },
   {
    "duration": 18,
    "start_time": "2023-09-06T15:43:52.004Z"
   },
   {
    "duration": 7,
    "start_time": "2023-09-06T15:45:03.335Z"
   },
   {
    "duration": 12,
    "start_time": "2023-09-06T15:45:08.335Z"
   },
   {
    "duration": 18,
    "start_time": "2023-09-06T15:46:15.395Z"
   },
   {
    "duration": 12,
    "start_time": "2023-09-06T15:47:02.396Z"
   },
   {
    "duration": 13,
    "start_time": "2023-09-06T15:47:22.069Z"
   },
   {
    "duration": 96,
    "start_time": "2023-09-06T15:57:25.048Z"
   },
   {
    "duration": 96,
    "start_time": "2023-09-06T15:57:31.808Z"
   },
   {
    "duration": 111,
    "start_time": "2023-09-06T16:03:30.986Z"
   },
   {
    "duration": 55,
    "start_time": "2023-09-06T16:08:05.819Z"
   },
   {
    "duration": 57,
    "start_time": "2023-09-06T16:08:19.108Z"
   },
   {
    "duration": 9,
    "start_time": "2023-09-06T16:10:02.225Z"
   },
   {
    "duration": 273,
    "start_time": "2023-09-06T16:10:24.852Z"
   },
   {
    "duration": 16,
    "start_time": "2023-09-06T16:10:57.964Z"
   },
   {
    "duration": 10,
    "start_time": "2023-09-06T16:11:13.644Z"
   },
   {
    "duration": 11,
    "start_time": "2023-09-06T16:11:25.053Z"
   },
   {
    "duration": 58,
    "start_time": "2023-09-06T16:13:47.052Z"
   },
   {
    "duration": 76,
    "start_time": "2023-09-06T16:14:50.390Z"
   },
   {
    "duration": 180,
    "start_time": "2023-09-06T16:14:54.359Z"
   },
   {
    "duration": 271,
    "start_time": "2023-09-06T16:20:02.732Z"
   },
   {
    "duration": 288,
    "start_time": "2023-09-06T16:20:15.229Z"
   },
   {
    "duration": 302,
    "start_time": "2023-09-06T16:22:15.559Z"
   },
   {
    "duration": 321,
    "start_time": "2023-09-06T16:23:36.782Z"
   },
   {
    "duration": 324,
    "start_time": "2023-09-06T16:29:39.903Z"
   },
   {
    "duration": 344,
    "start_time": "2023-09-06T16:30:21.128Z"
   },
   {
    "duration": 248,
    "start_time": "2023-09-06T16:30:47.761Z"
   },
   {
    "duration": 250,
    "start_time": "2023-09-06T16:31:17.450Z"
   },
   {
    "duration": 2084,
    "start_time": "2023-09-06T16:37:51.733Z"
   },
   {
    "duration": 250,
    "start_time": "2023-09-06T16:38:25.422Z"
   },
   {
    "duration": 334,
    "start_time": "2023-09-06T16:38:35.686Z"
   },
   {
    "duration": 258,
    "start_time": "2023-09-06T16:40:35.899Z"
   },
   {
    "duration": 267,
    "start_time": "2023-09-06T16:41:15.965Z"
   },
   {
    "duration": 258,
    "start_time": "2023-09-06T16:41:57.678Z"
   },
   {
    "duration": 2053,
    "start_time": "2023-09-06T16:53:23.270Z"
   },
   {
    "duration": 17,
    "start_time": "2023-09-06T16:55:34.098Z"
   },
   {
    "duration": 18,
    "start_time": "2023-09-06T16:55:55.950Z"
   },
   {
    "duration": 255,
    "start_time": "2023-09-06T16:57:05.402Z"
   },
   {
    "duration": 395,
    "start_time": "2023-09-06T16:57:37.178Z"
   },
   {
    "duration": 288,
    "start_time": "2023-09-06T16:59:07.155Z"
   },
   {
    "duration": 307,
    "start_time": "2023-09-06T16:59:26.159Z"
   },
   {
    "duration": 399,
    "start_time": "2023-09-06T17:06:08.538Z"
   },
   {
    "duration": 408,
    "start_time": "2023-09-06T17:12:39.146Z"
   },
   {
    "duration": 10,
    "start_time": "2023-09-06T17:18:36.035Z"
   },
   {
    "duration": 6,
    "start_time": "2023-09-06T17:18:43.347Z"
   },
   {
    "duration": 10,
    "start_time": "2023-09-06T17:20:04.343Z"
   },
   {
    "duration": 6,
    "start_time": "2023-09-06T17:20:08.183Z"
   },
   {
    "duration": 1122,
    "start_time": "2023-09-06T17:36:00.061Z"
   },
   {
    "duration": 84,
    "start_time": "2023-09-06T17:36:01.185Z"
   },
   {
    "duration": 14,
    "start_time": "2023-09-06T17:36:01.271Z"
   },
   {
    "duration": 34,
    "start_time": "2023-09-06T17:36:01.288Z"
   },
   {
    "duration": 58,
    "start_time": "2023-09-06T17:36:01.324Z"
   },
   {
    "duration": 58,
    "start_time": "2023-09-06T17:36:01.384Z"
   },
   {
    "duration": 30,
    "start_time": "2023-09-06T17:36:01.444Z"
   },
   {
    "duration": 43,
    "start_time": "2023-09-06T17:36:01.475Z"
   },
   {
    "duration": 59,
    "start_time": "2023-09-06T17:36:01.520Z"
   },
   {
    "duration": 89,
    "start_time": "2023-09-06T17:36:01.582Z"
   },
   {
    "duration": 35,
    "start_time": "2023-09-06T17:36:01.673Z"
   },
   {
    "duration": 53,
    "start_time": "2023-09-06T17:36:01.710Z"
   },
   {
    "duration": 34,
    "start_time": "2023-09-06T17:36:01.764Z"
   },
   {
    "duration": 61,
    "start_time": "2023-09-06T17:36:01.799Z"
   },
   {
    "duration": 70,
    "start_time": "2023-09-06T17:36:01.861Z"
   },
   {
    "duration": 210,
    "start_time": "2023-09-06T17:36:01.933Z"
   },
   {
    "duration": 297,
    "start_time": "2023-09-06T17:36:02.144Z"
   },
   {
    "duration": 224,
    "start_time": "2023-09-06T17:36:02.443Z"
   },
   {
    "duration": 245,
    "start_time": "2023-09-06T17:36:02.668Z"
   },
   {
    "duration": 197,
    "start_time": "2023-09-06T17:36:02.914Z"
   },
   {
    "duration": 195,
    "start_time": "2023-09-06T17:36:03.112Z"
   },
   {
    "duration": 196,
    "start_time": "2023-09-06T17:36:03.309Z"
   },
   {
    "duration": 196,
    "start_time": "2023-09-06T17:36:03.507Z"
   },
   {
    "duration": 7,
    "start_time": "2023-09-06T17:36:03.705Z"
   },
   {
    "duration": 38,
    "start_time": "2023-09-06T17:36:03.713Z"
   },
   {
    "duration": 249,
    "start_time": "2023-09-06T17:36:03.753Z"
   },
   {
    "duration": 160,
    "start_time": "2023-09-06T17:36:04.004Z"
   },
   {
    "duration": 159,
    "start_time": "2023-09-06T17:36:04.168Z"
   },
   {
    "duration": 146,
    "start_time": "2023-09-06T17:36:04.334Z"
   },
   {
    "duration": 200,
    "start_time": "2023-09-06T17:36:04.482Z"
   },
   {
    "duration": 267,
    "start_time": "2023-09-06T17:36:04.684Z"
   },
   {
    "duration": 237,
    "start_time": "2023-09-06T17:36:04.953Z"
   },
   {
    "duration": 136,
    "start_time": "2023-09-06T17:36:05.192Z"
   },
   {
    "duration": 11,
    "start_time": "2023-09-06T17:36:05.334Z"
   },
   {
    "duration": 250,
    "start_time": "2023-09-06T17:36:05.346Z"
   },
   {
    "duration": 11,
    "start_time": "2023-09-06T17:36:05.598Z"
   },
   {
    "duration": 239,
    "start_time": "2023-09-06T17:36:05.610Z"
   },
   {
    "duration": 153,
    "start_time": "2023-09-06T17:36:05.851Z"
   },
   {
    "duration": 12,
    "start_time": "2023-09-06T17:36:06.005Z"
   },
   {
    "duration": 175,
    "start_time": "2023-09-06T17:36:06.019Z"
   },
   {
    "duration": 170,
    "start_time": "2023-09-06T17:36:06.196Z"
   },
   {
    "duration": 12,
    "start_time": "2023-09-06T17:36:06.368Z"
   },
   {
    "duration": 146,
    "start_time": "2023-09-06T17:36:06.382Z"
   },
   {
    "duration": 149,
    "start_time": "2023-09-06T17:36:06.530Z"
   },
   {
    "duration": 5,
    "start_time": "2023-09-06T17:36:06.681Z"
   },
   {
    "duration": 171,
    "start_time": "2023-09-06T17:36:06.688Z"
   },
   {
    "duration": 193,
    "start_time": "2023-09-06T17:36:06.861Z"
   },
   {
    "duration": 271,
    "start_time": "2023-09-06T17:36:07.056Z"
   },
   {
    "duration": 388,
    "start_time": "2023-09-06T17:36:07.328Z"
   },
   {
    "duration": 423,
    "start_time": "2023-09-06T17:36:07.717Z"
   },
   {
    "duration": 10,
    "start_time": "2023-09-06T17:36:08.142Z"
   },
   {
    "duration": 15,
    "start_time": "2023-09-06T17:36:08.153Z"
   },
   {
    "duration": 18,
    "start_time": "2023-09-06T17:36:08.169Z"
   },
   {
    "duration": 19,
    "start_time": "2023-09-06T17:36:08.188Z"
   },
   {
    "duration": 1586,
    "start_time": "2023-09-07T14:17:02.724Z"
   },
   {
    "duration": 134,
    "start_time": "2023-09-07T14:17:04.313Z"
   },
   {
    "duration": 16,
    "start_time": "2023-09-07T14:17:04.449Z"
   },
   {
    "duration": 202,
    "start_time": "2023-09-07T14:17:04.467Z"
   },
   {
    "duration": 133,
    "start_time": "2023-09-07T14:17:04.671Z"
   },
   {
    "duration": 20,
    "start_time": "2023-09-07T14:17:04.812Z"
   },
   {
    "duration": 53,
    "start_time": "2023-09-07T14:17:04.840Z"
   },
   {
    "duration": 45,
    "start_time": "2023-09-07T14:17:04.895Z"
   },
   {
    "duration": 20,
    "start_time": "2023-09-07T14:17:04.946Z"
   },
   {
    "duration": 87,
    "start_time": "2023-09-07T14:17:04.968Z"
   },
   {
    "duration": 28,
    "start_time": "2023-09-07T14:17:05.057Z"
   },
   {
    "duration": 55,
    "start_time": "2023-09-07T14:17:05.087Z"
   },
   {
    "duration": 19,
    "start_time": "2023-09-07T14:17:05.144Z"
   },
   {
    "duration": 60,
    "start_time": "2023-09-07T14:17:05.166Z"
   },
   {
    "duration": 48,
    "start_time": "2023-09-07T14:17:05.230Z"
   },
   {
    "duration": 280,
    "start_time": "2023-09-07T14:17:05.280Z"
   },
   {
    "duration": 363,
    "start_time": "2023-09-07T14:17:05.562Z"
   },
   {
    "duration": 250,
    "start_time": "2023-09-07T14:17:05.926Z"
   },
   {
    "duration": 260,
    "start_time": "2023-09-07T14:17:06.178Z"
   },
   {
    "duration": 329,
    "start_time": "2023-09-07T14:17:06.440Z"
   },
   {
    "duration": 263,
    "start_time": "2023-09-07T14:17:06.771Z"
   },
   {
    "duration": 255,
    "start_time": "2023-09-07T14:17:07.036Z"
   },
   {
    "duration": 246,
    "start_time": "2023-09-07T14:17:07.293Z"
   },
   {
    "duration": 8,
    "start_time": "2023-09-07T14:17:07.541Z"
   },
   {
    "duration": 25,
    "start_time": "2023-09-07T14:17:07.551Z"
   },
   {
    "duration": 316,
    "start_time": "2023-09-07T14:17:07.578Z"
   },
   {
    "duration": 191,
    "start_time": "2023-09-07T14:17:07.896Z"
   },
   {
    "duration": 210,
    "start_time": "2023-09-07T14:17:08.089Z"
   },
   {
    "duration": 225,
    "start_time": "2023-09-07T14:17:08.301Z"
   },
   {
    "duration": 193,
    "start_time": "2023-09-07T14:17:08.529Z"
   },
   {
    "duration": 324,
    "start_time": "2023-09-07T14:17:08.727Z"
   },
   {
    "duration": 311,
    "start_time": "2023-09-07T14:17:09.052Z"
   },
   {
    "duration": 177,
    "start_time": "2023-09-07T14:17:09.365Z"
   },
   {
    "duration": 12,
    "start_time": "2023-09-07T14:17:09.544Z"
   },
   {
    "duration": 180,
    "start_time": "2023-09-07T14:17:09.558Z"
   },
   {
    "duration": 12,
    "start_time": "2023-09-07T14:17:09.740Z"
   },
   {
    "duration": 732,
    "start_time": "2023-09-07T14:17:09.754Z"
   },
   {
    "duration": 195,
    "start_time": "2023-09-07T14:17:10.488Z"
   },
   {
    "duration": 24,
    "start_time": "2023-09-07T14:17:10.685Z"
   },
   {
    "duration": 280,
    "start_time": "2023-09-07T14:17:10.712Z"
   },
   {
    "duration": 176,
    "start_time": "2023-09-07T14:17:11.006Z"
   },
   {
    "duration": 30,
    "start_time": "2023-09-07T14:17:11.184Z"
   },
   {
    "duration": 255,
    "start_time": "2023-09-07T14:17:11.215Z"
   },
   {
    "duration": 194,
    "start_time": "2023-09-07T14:17:11.472Z"
   },
   {
    "duration": 6,
    "start_time": "2023-09-07T14:17:11.668Z"
   },
   {
    "duration": 218,
    "start_time": "2023-09-07T14:17:11.677Z"
   },
   {
    "duration": 239,
    "start_time": "2023-09-07T14:17:11.905Z"
   },
   {
    "duration": 346,
    "start_time": "2023-09-07T14:17:12.146Z"
   },
   {
    "duration": 521,
    "start_time": "2023-09-07T14:17:12.501Z"
   },
   {
    "duration": 559,
    "start_time": "2023-09-07T14:17:13.023Z"
   },
   {
    "duration": 30,
    "start_time": "2023-09-07T14:17:13.584Z"
   },
   {
    "duration": 36,
    "start_time": "2023-09-07T14:17:13.616Z"
   },
   {
    "duration": 35,
    "start_time": "2023-09-07T14:17:13.653Z"
   },
   {
    "duration": 147,
    "start_time": "2023-09-07T14:17:13.690Z"
   },
   {
    "duration": 12,
    "start_time": "2023-09-07T14:18:39.024Z"
   },
   {
    "duration": 735,
    "start_time": "2023-09-07T14:24:38.030Z"
   },
   {
    "duration": 1357,
    "start_time": "2023-09-07T14:29:46.129Z"
   },
   {
    "duration": 91,
    "start_time": "2023-09-07T14:29:47.488Z"
   },
   {
    "duration": 17,
    "start_time": "2023-09-07T14:29:47.581Z"
   },
   {
    "duration": 34,
    "start_time": "2023-09-07T14:29:47.599Z"
   },
   {
    "duration": 22,
    "start_time": "2023-09-07T14:29:47.636Z"
   },
   {
    "duration": 8,
    "start_time": "2023-09-07T14:29:47.660Z"
   },
   {
    "duration": 11,
    "start_time": "2023-09-07T14:29:47.669Z"
   },
   {
    "duration": 42,
    "start_time": "2023-09-07T14:29:47.682Z"
   },
   {
    "duration": 20,
    "start_time": "2023-09-07T14:29:47.727Z"
   },
   {
    "duration": 30,
    "start_time": "2023-09-07T14:29:47.749Z"
   },
   {
    "duration": 33,
    "start_time": "2023-09-07T14:29:47.781Z"
   },
   {
    "duration": 34,
    "start_time": "2023-09-07T14:29:47.820Z"
   },
   {
    "duration": 18,
    "start_time": "2023-09-07T14:29:47.856Z"
   },
   {
    "duration": 8,
    "start_time": "2023-09-07T14:29:47.877Z"
   },
   {
    "duration": 28,
    "start_time": "2023-09-07T14:29:47.887Z"
   },
   {
    "duration": 218,
    "start_time": "2023-09-07T14:29:47.917Z"
   },
   {
    "duration": 408,
    "start_time": "2023-09-07T14:29:48.137Z"
   },
   {
    "duration": 295,
    "start_time": "2023-09-07T14:29:48.546Z"
   },
   {
    "duration": 270,
    "start_time": "2023-09-07T14:29:48.842Z"
   },
   {
    "duration": 254,
    "start_time": "2023-09-07T14:29:49.114Z"
   },
   {
    "duration": 278,
    "start_time": "2023-09-07T14:29:49.370Z"
   },
   {
    "duration": 266,
    "start_time": "2023-09-07T14:29:49.650Z"
   },
   {
    "duration": 234,
    "start_time": "2023-09-07T14:29:49.920Z"
   },
   {
    "duration": 780,
    "start_time": "2023-09-07T14:29:50.156Z"
   },
   {
    "duration": 9,
    "start_time": "2023-09-07T14:29:50.938Z"
   },
   {
    "duration": 88,
    "start_time": "2023-09-07T14:29:50.948Z"
   },
   {
    "duration": 219,
    "start_time": "2023-09-07T14:29:51.038Z"
   },
   {
    "duration": 211,
    "start_time": "2023-09-07T14:29:51.259Z"
   },
   {
    "duration": 203,
    "start_time": "2023-09-07T14:29:51.472Z"
   },
   {
    "duration": 203,
    "start_time": "2023-09-07T14:29:51.677Z"
   },
   {
    "duration": 202,
    "start_time": "2023-09-07T14:29:51.882Z"
   },
   {
    "duration": 351,
    "start_time": "2023-09-07T14:29:52.086Z"
   },
   {
    "duration": 323,
    "start_time": "2023-09-07T14:29:52.439Z"
   },
   {
    "duration": 280,
    "start_time": "2023-09-07T14:29:52.763Z"
   },
   {
    "duration": 13,
    "start_time": "2023-09-07T14:29:53.045Z"
   },
   {
    "duration": 193,
    "start_time": "2023-09-07T14:29:53.059Z"
   },
   {
    "duration": 13,
    "start_time": "2023-09-07T14:29:53.254Z"
   },
   {
    "duration": 211,
    "start_time": "2023-09-07T14:29:53.269Z"
   },
   {
    "duration": 191,
    "start_time": "2023-09-07T14:29:53.481Z"
   },
   {
    "duration": 12,
    "start_time": "2023-09-07T14:29:53.674Z"
   },
   {
    "duration": 227,
    "start_time": "2023-09-07T14:29:53.703Z"
   },
   {
    "duration": 206,
    "start_time": "2023-09-07T14:29:53.932Z"
   },
   {
    "duration": 14,
    "start_time": "2023-09-07T14:29:54.140Z"
   },
   {
    "duration": 218,
    "start_time": "2023-09-07T14:29:54.155Z"
   },
   {
    "duration": 197,
    "start_time": "2023-09-07T14:29:54.375Z"
   },
   {
    "duration": 6,
    "start_time": "2023-09-07T14:29:54.573Z"
   },
   {
    "duration": 384,
    "start_time": "2023-09-07T14:29:54.581Z"
   },
   {
    "duration": 265,
    "start_time": "2023-09-07T14:29:54.966Z"
   },
   {
    "duration": 437,
    "start_time": "2023-09-07T14:29:55.234Z"
   },
   {
    "duration": 431,
    "start_time": "2023-09-07T14:29:55.673Z"
   },
   {
    "duration": 585,
    "start_time": "2023-09-07T14:29:56.106Z"
   },
   {
    "duration": 21,
    "start_time": "2023-09-07T14:29:56.693Z"
   },
   {
    "duration": 46,
    "start_time": "2023-09-07T14:29:56.715Z"
   },
   {
    "duration": 67,
    "start_time": "2023-09-07T14:29:56.763Z"
   },
   {
    "duration": 98,
    "start_time": "2023-09-07T14:29:56.831Z"
   },
   {
    "duration": 51,
    "start_time": "2023-09-07T15:13:05.710Z"
   },
   {
    "duration": 1357,
    "start_time": "2023-09-07T15:13:19.052Z"
   },
   {
    "duration": 129,
    "start_time": "2023-09-07T15:13:20.411Z"
   },
   {
    "duration": 15,
    "start_time": "2023-09-07T15:13:20.542Z"
   },
   {
    "duration": 66,
    "start_time": "2023-09-07T15:13:20.560Z"
   },
   {
    "duration": 22,
    "start_time": "2023-09-07T15:13:20.628Z"
   },
   {
    "duration": 10,
    "start_time": "2023-09-07T15:13:20.652Z"
   },
   {
    "duration": 14,
    "start_time": "2023-09-07T15:13:20.663Z"
   },
   {
    "duration": 19,
    "start_time": "2023-09-07T15:13:20.679Z"
   },
   {
    "duration": 16,
    "start_time": "2023-09-07T15:13:20.708Z"
   },
   {
    "duration": 22,
    "start_time": "2023-09-07T15:13:20.726Z"
   },
   {
    "duration": 11,
    "start_time": "2023-09-07T15:13:20.750Z"
   },
   {
    "duration": 25,
    "start_time": "2023-09-07T15:13:20.762Z"
   },
   {
    "duration": 37,
    "start_time": "2023-09-07T15:13:20.789Z"
   },
   {
    "duration": 3,
    "start_time": "2023-09-07T15:13:20.828Z"
   },
   {
    "duration": 18,
    "start_time": "2023-09-07T15:13:20.833Z"
   },
   {
    "duration": 206,
    "start_time": "2023-09-07T15:13:20.853Z"
   },
   {
    "duration": 330,
    "start_time": "2023-09-07T15:13:21.061Z"
   },
   {
    "duration": 253,
    "start_time": "2023-09-07T15:13:21.393Z"
   },
   {
    "duration": 245,
    "start_time": "2023-09-07T15:13:21.647Z"
   },
   {
    "duration": 241,
    "start_time": "2023-09-07T15:13:21.894Z"
   },
   {
    "duration": 234,
    "start_time": "2023-09-07T15:13:22.137Z"
   },
   {
    "duration": 263,
    "start_time": "2023-09-07T15:13:22.373Z"
   },
   {
    "duration": 274,
    "start_time": "2023-09-07T15:13:22.639Z"
   },
   {
    "duration": 707,
    "start_time": "2023-09-07T15:13:22.915Z"
   },
   {
    "duration": 9,
    "start_time": "2023-09-07T15:13:23.624Z"
   },
   {
    "duration": 28,
    "start_time": "2023-09-07T15:13:23.635Z"
   },
   {
    "duration": 212,
    "start_time": "2023-09-07T15:13:23.665Z"
   },
   {
    "duration": 185,
    "start_time": "2023-09-07T15:13:23.881Z"
   },
   {
    "duration": 193,
    "start_time": "2023-09-07T15:13:24.068Z"
   },
   {
    "duration": 188,
    "start_time": "2023-09-07T15:13:24.262Z"
   },
   {
    "duration": 187,
    "start_time": "2023-09-07T15:13:24.452Z"
   },
   {
    "duration": 322,
    "start_time": "2023-09-07T15:13:24.641Z"
   },
   {
    "duration": 286,
    "start_time": "2023-09-07T15:13:24.964Z"
   },
   {
    "duration": 259,
    "start_time": "2023-09-07T15:13:25.251Z"
   },
   {
    "duration": 13,
    "start_time": "2023-09-07T15:13:25.512Z"
   },
   {
    "duration": 152,
    "start_time": "2023-09-07T15:13:25.526Z"
   },
   {
    "duration": 13,
    "start_time": "2023-09-07T15:13:25.680Z"
   },
   {
    "duration": 186,
    "start_time": "2023-09-07T15:13:25.694Z"
   },
   {
    "duration": 169,
    "start_time": "2023-09-07T15:13:25.882Z"
   },
   {
    "duration": 13,
    "start_time": "2023-09-07T15:13:26.053Z"
   },
   {
    "duration": 201,
    "start_time": "2023-09-07T15:13:26.068Z"
   },
   {
    "duration": 188,
    "start_time": "2023-09-07T15:13:26.271Z"
   },
   {
    "duration": 14,
    "start_time": "2023-09-07T15:13:26.462Z"
   },
   {
    "duration": 186,
    "start_time": "2023-09-07T15:13:26.478Z"
   },
   {
    "duration": 179,
    "start_time": "2023-09-07T15:13:26.667Z"
   },
   {
    "duration": 6,
    "start_time": "2023-09-07T15:13:26.849Z"
   },
   {
    "duration": 201,
    "start_time": "2023-09-07T15:13:26.857Z"
   },
   {
    "duration": 228,
    "start_time": "2023-09-07T15:13:27.060Z"
   },
   {
    "duration": 418,
    "start_time": "2023-09-07T15:13:27.290Z"
   },
   {
    "duration": 388,
    "start_time": "2023-09-07T15:13:27.710Z"
   },
   {
    "duration": 515,
    "start_time": "2023-09-07T15:13:28.100Z"
   },
   {
    "duration": 13,
    "start_time": "2023-09-07T15:13:28.617Z"
   },
   {
    "duration": 17,
    "start_time": "2023-09-07T15:13:28.632Z"
   },
   {
    "duration": 20,
    "start_time": "2023-09-07T15:13:28.651Z"
   },
   {
    "duration": 11,
    "start_time": "2023-09-07T15:13:28.673Z"
   },
   {
    "duration": 1272,
    "start_time": "2023-09-07T15:32:28.790Z"
   },
   {
    "duration": 85,
    "start_time": "2023-09-07T15:32:30.064Z"
   },
   {
    "duration": 16,
    "start_time": "2023-09-07T15:32:30.151Z"
   },
   {
    "duration": 68,
    "start_time": "2023-09-07T15:32:30.169Z"
   },
   {
    "duration": 29,
    "start_time": "2023-09-07T15:32:30.239Z"
   },
   {
    "duration": 27,
    "start_time": "2023-09-07T15:32:30.270Z"
   },
   {
    "duration": 40,
    "start_time": "2023-09-07T15:32:30.299Z"
   },
   {
    "duration": 36,
    "start_time": "2023-09-07T15:32:30.341Z"
   },
   {
    "duration": 63,
    "start_time": "2023-09-07T15:32:30.379Z"
   },
   {
    "duration": 51,
    "start_time": "2023-09-07T15:32:30.445Z"
   },
   {
    "duration": 58,
    "start_time": "2023-09-07T15:32:30.498Z"
   },
   {
    "duration": 74,
    "start_time": "2023-09-07T15:32:30.558Z"
   },
   {
    "duration": 34,
    "start_time": "2023-09-07T15:32:30.636Z"
   },
   {
    "duration": 9,
    "start_time": "2023-09-07T15:32:30.673Z"
   },
   {
    "duration": 70,
    "start_time": "2023-09-07T15:32:30.684Z"
   },
   {
    "duration": 281,
    "start_time": "2023-09-07T15:32:30.757Z"
   },
   {
    "duration": 345,
    "start_time": "2023-09-07T15:32:31.040Z"
   },
   {
    "duration": 265,
    "start_time": "2023-09-07T15:32:31.387Z"
   },
   {
    "duration": 270,
    "start_time": "2023-09-07T15:32:31.654Z"
   },
   {
    "duration": 258,
    "start_time": "2023-09-07T15:32:31.926Z"
   },
   {
    "duration": 284,
    "start_time": "2023-09-07T15:32:32.186Z"
   },
   {
    "duration": 267,
    "start_time": "2023-09-07T15:32:32.472Z"
   },
   {
    "duration": 242,
    "start_time": "2023-09-07T15:32:32.741Z"
   },
   {
    "duration": 744,
    "start_time": "2023-09-07T15:32:32.985Z"
   },
   {
    "duration": 8,
    "start_time": "2023-09-07T15:32:33.731Z"
   },
   {
    "duration": 26,
    "start_time": "2023-09-07T15:32:33.741Z"
   },
   {
    "duration": 226,
    "start_time": "2023-09-07T15:32:33.769Z"
   },
   {
    "duration": 189,
    "start_time": "2023-09-07T15:32:34.005Z"
   },
   {
    "duration": 225,
    "start_time": "2023-09-07T15:32:34.195Z"
   },
   {
    "duration": 208,
    "start_time": "2023-09-07T15:32:34.421Z"
   },
   {
    "duration": 204,
    "start_time": "2023-09-07T15:32:34.631Z"
   },
   {
    "duration": 374,
    "start_time": "2023-09-07T15:32:34.837Z"
   },
   {
    "duration": 313,
    "start_time": "2023-09-07T15:32:35.216Z"
   },
   {
    "duration": 258,
    "start_time": "2023-09-07T15:32:35.531Z"
   },
   {
    "duration": 27,
    "start_time": "2023-09-07T15:32:35.791Z"
   },
   {
    "duration": 215,
    "start_time": "2023-09-07T15:32:35.820Z"
   },
   {
    "duration": 11,
    "start_time": "2023-09-07T15:32:36.037Z"
   },
   {
    "duration": 191,
    "start_time": "2023-09-07T15:32:36.050Z"
   },
   {
    "duration": 192,
    "start_time": "2023-09-07T15:32:36.243Z"
   },
   {
    "duration": 12,
    "start_time": "2023-09-07T15:32:36.437Z"
   },
   {
    "duration": 238,
    "start_time": "2023-09-07T15:32:36.450Z"
   },
   {
    "duration": 192,
    "start_time": "2023-09-07T15:32:36.690Z"
   },
   {
    "duration": 28,
    "start_time": "2023-09-07T15:32:36.884Z"
   },
   {
    "duration": 168,
    "start_time": "2023-09-07T15:32:36.914Z"
   },
   {
    "duration": 191,
    "start_time": "2023-09-07T15:32:37.084Z"
   },
   {
    "duration": 6,
    "start_time": "2023-09-07T15:32:37.277Z"
   },
   {
    "duration": 221,
    "start_time": "2023-09-07T15:32:37.285Z"
   },
   {
    "duration": 251,
    "start_time": "2023-09-07T15:32:37.510Z"
   },
   {
    "duration": 486,
    "start_time": "2023-09-07T15:32:37.763Z"
   },
   {
    "duration": 458,
    "start_time": "2023-09-07T15:32:38.251Z"
   },
   {
    "duration": 608,
    "start_time": "2023-09-07T15:32:38.710Z"
   },
   {
    "duration": 19,
    "start_time": "2023-09-07T15:32:39.321Z"
   },
   {
    "duration": 58,
    "start_time": "2023-09-07T15:32:39.342Z"
   },
   {
    "duration": 32,
    "start_time": "2023-09-07T15:32:39.404Z"
   },
   {
    "duration": 11,
    "start_time": "2023-09-07T15:32:39.439Z"
   }
  ],
  "kernelspec": {
   "display_name": "Python 3 (ipykernel)",
   "language": "python",
   "name": "python3"
  },
  "language_info": {
   "codemirror_mode": {
    "name": "ipython",
    "version": 3
   },
   "file_extension": ".py",
   "mimetype": "text/x-python",
   "name": "python",
   "nbconvert_exporter": "python",
   "pygments_lexer": "ipython3",
   "version": "3.9.5"
  },
  "toc": {
   "base_numbering": 1,
   "nav_menu": {},
   "number_sections": true,
   "sideBar": true,
   "skip_h1_title": true,
   "title_cell": "Table of Contents",
   "title_sidebar": "Contents",
   "toc_cell": false,
   "toc_position": {},
   "toc_section_display": true,
   "toc_window_display": false
  }
 },
 "nbformat": 4,
 "nbformat_minor": 2
}
